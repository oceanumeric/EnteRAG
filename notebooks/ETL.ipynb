{
 "cells": [
  {
   "cell_type": "markdown",
   "metadata": {},
   "source": [
    "# Data Extraction Transformation and Loading (ETL) Pipeline"
   ]
  },
  {
   "cell_type": "code",
   "execution_count": 1,
   "metadata": {},
   "outputs": [],
   "source": [
    "import pandas as pd\n",
    "import seaborn as sns\n",
    "import matplotlib.pyplot as plt\n",
    "\n",
    "from datetime import date \n",
    "from google.cloud import storage\n",
    "from pyspark import StorageLevel\n",
    "from pyspark.sql import SparkSession"
   ]
  },
  {
   "cell_type": "markdown",
   "metadata": {},
   "source": [
    "## Google Storage\n",
    "\n",
    "We will list the files in the Google Storage bucket."
   ]
  },
  {
   "cell_type": "code",
   "execution_count": 2,
   "metadata": {},
   "outputs": [],
   "source": [
    "storage_client = storage.Client(project=\"bigdata-410322\")"
   ]
  },
  {
   "cell_type": "code",
   "execution_count": 3,
   "metadata": {},
   "outputs": [
    {
     "name": "stdout",
     "output_type": "stream",
     "text": [
      "Buckets:\n",
      "bigdata-410322.appspot.com\n",
      "data_collection_bucket\n",
      "staging.bigdata-410322.appspot.com\n",
      "Listed all storage buckets.\n"
     ]
    }
   ],
   "source": [
    "buckets = storage_client.list_buckets()\n",
    "print(\"Buckets:\")\n",
    "for bucket in buckets:\n",
    "    print(bucket.name)\n",
    "print(\"Listed all storage buckets.\")"
   ]
  },
  {
   "cell_type": "code",
   "execution_count": 4,
   "metadata": {},
   "outputs": [
    {
     "name": "stdout",
     "output_type": "stream",
     "text": [
      "goodreads/\n",
      "goodreads/book_id_map.csv\n",
      "goodreads/goodreads_book_authors.json.gz\n",
      "goodreads/goodreads_book_genres_initial.json.gz\n",
      "goodreads/goodreads_book_series.json.gz\n",
      "goodreads/goodreads_book_works.json.gz\n",
      "goodreads/goodreads_books.json.gz\n",
      "goodreads/goodreads_books_children.json.gz\n",
      "goodreads/goodreads_books_comics_graphic.json.gz\n",
      "goodreads/goodreads_books_fantasy_paranormal.json.gz\n",
      "goodreads/goodreads_books_history_biography.json.gz\n",
      "goodreads/goodreads_books_mystery_thriller_crime.json.gz\n",
      "goodreads/goodreads_books_poetry.json.gz\n",
      "goodreads/goodreads_books_romance.json.gz\n",
      "goodreads/goodreads_books_young_adult.json.gz\n",
      "goodreads/goodreads_interactions.csv\n",
      "goodreads/goodreads_interactions_children.json.gz\n",
      "goodreads/goodreads_interactions_comics_graphic.json.gz\n",
      "goodreads/goodreads_interactions_dedup.json.gz\n",
      "goodreads/goodreads_interactions_fantasy_paranormal.json.gz\n",
      "goodreads/goodreads_interactions_history_biography.json.gz\n",
      "goodreads/goodreads_interactions_mystery_thriller_crime.json.gz\n",
      "goodreads/goodreads_interactions_poetry.json.gz\n",
      "goodreads/goodreads_interactions_romance.json.gz\n",
      "goodreads/goodreads_interactions_young_adult.json.gz\n",
      "goodreads/goodreads_reviews_children.json.gz\n",
      "goodreads/goodreads_reviews_comics_graphic.json.gz\n",
      "goodreads/goodreads_reviews_dedup.json.gz\n",
      "goodreads/goodreads_reviews_fantasy_paranormal.json.gz\n",
      "goodreads/goodreads_reviews_history_biography.json.gz\n",
      "goodreads/goodreads_reviews_mystery_thriller_crime.json.gz\n",
      "goodreads/goodreads_reviews_poetry.json.gz\n",
      "goodreads/goodreads_reviews_romance.json.gz\n",
      "goodreads/goodreads_reviews_spoiler.json.gz\n",
      "goodreads/goodreads_reviews_spoiler_raw.json.gz\n",
      "goodreads/goodreads_reviews_young_adult.json.gz\n",
      "goodreads/user_id_map.csv\n"
     ]
    }
   ],
   "source": [
    "# get bucket\n",
    "bucket = storage_client.get_bucket(\"data_collection_bucket\")\n",
    "blobs = bucket.list_blobs(prefix=\"goodreads/\")\n",
    "\n",
    "for blob in blobs:\n",
    "    print(blob.name)"
   ]
  },
  {
   "cell_type": "markdown",
   "metadata": {},
   "source": [
    "## Reading the data via spark\n",
    "\n",
    "Now we will read the data from the Google Storage bucket using the spark. There are many files, so we will focus on the following files:\n",
    "\n",
    "- `goodreads/goodreads_books.json.gz`"
   ]
  },
  {
   "cell_type": "code",
   "execution_count": 4,
   "metadata": {},
   "outputs": [
    {
     "name": "stderr",
     "output_type": "stream",
     "text": [
      "Setting default log level to \"WARN\".\n",
      "To adjust logging level use sc.setLogLevel(newLevel). For SparkR, use setLogLevel(newLevel).\n",
      "24/05/19 10:19:24 WARN NativeCodeLoader: Unable to load native-hadoop library for your platform... using builtin-java classes where applicable\n"
     ]
    }
   ],
   "source": [
    "# hadoop configuration\n",
    "# latest version of gcs-connector-hadoop3 is not recommened for production\n",
    "spark = SparkSession.builder \\\n",
    "    .appName('ai-powered-search') \\\n",
    "    .config(\"spark.jars\", \"https://storage.googleapis.com/hadoop-lib/gcs/gcs-connector-hadoop3-latest.jar\") \\\n",
    "    .config(\"spark.sql.repl.eagerEval.enabled\", True) \\\n",
    "    .config(\"spark.executor.memory\", \"12g\") \\\n",
    "    .config(\"spark.driver.memory\", \"12g\") \\\n",
    "    .config(\"spark.driver.maxResultSize\", \"12g\") \\\n",
    "    .getOrCreate()"
   ]
  },
  {
   "cell_type": "code",
   "execution_count": 6,
   "metadata": {},
   "outputs": [
    {
     "name": "stdout",
     "output_type": "stream",
     "text": [
      "Spark Version:3.5.1\n"
     ]
    }
   ],
   "source": [
    "print(\"Spark Version:\" + spark.version)"
   ]
  },
  {
   "cell_type": "code",
   "execution_count": 7,
   "metadata": {},
   "outputs": [
    {
     "name": "stdout",
     "output_type": "stream",
     "text": [
      "Hadoop version = 3.3.4\n"
     ]
    }
   ],
   "source": [
    "print(f\"Hadoop version = {spark._sc._jvm.org.apache.hadoop.util.VersionInfo.getVersion()}\")"
   ]
  },
  {
   "cell_type": "code",
   "execution_count": 5,
   "metadata": {},
   "outputs": [],
   "source": [
    "# set crentials\n",
    "# Set GCS credentials if necessary\n",
    "spark._jsc.hadoopConfiguration().set(\n",
    "    \"google.cloud.auth.service.account.json.keyfile\",\n",
    "    \"gcs-secrets.json\")"
   ]
  },
  {
   "cell_type": "code",
   "execution_count": 6,
   "metadata": {},
   "outputs": [
    {
     "name": "stderr",
     "output_type": "stream",
     "text": [
      "                                                                                \r"
     ]
    }
   ],
   "source": [
    "# read data, it will take some time - around 60 seconds\n",
    "bucket_name = \"data_collection_bucket\"\n",
    "file_path = f\"gs://{bucket_name}/goodreads/goodreads_books.json.gz\"\n",
    "\n",
    "books = spark.read.json(file_path)"
   ]
  },
  {
   "cell_type": "code",
   "execution_count": 10,
   "metadata": {},
   "outputs": [
    {
     "name": "stdout",
     "output_type": "stream",
     "text": [
      "root\n",
      " |-- asin: string (nullable = true)\n",
      " |-- authors: array (nullable = true)\n",
      " |    |-- element: struct (containsNull = true)\n",
      " |    |    |-- author_id: string (nullable = true)\n",
      " |    |    |-- role: string (nullable = true)\n",
      " |-- average_rating: string (nullable = true)\n",
      " |-- book_id: string (nullable = true)\n",
      " |-- country_code: string (nullable = true)\n",
      " |-- description: string (nullable = true)\n",
      " |-- edition_information: string (nullable = true)\n",
      " |-- format: string (nullable = true)\n",
      " |-- image_url: string (nullable = true)\n",
      " |-- is_ebook: string (nullable = true)\n",
      " |-- isbn: string (nullable = true)\n",
      " |-- isbn13: string (nullable = true)\n",
      " |-- kindle_asin: string (nullable = true)\n",
      " |-- language_code: string (nullable = true)\n",
      " |-- link: string (nullable = true)\n",
      " |-- num_pages: string (nullable = true)\n",
      " |-- popular_shelves: array (nullable = true)\n",
      " |    |-- element: struct (containsNull = true)\n",
      " |    |    |-- count: string (nullable = true)\n",
      " |    |    |-- name: string (nullable = true)\n",
      " |-- publication_day: string (nullable = true)\n",
      " |-- publication_month: string (nullable = true)\n",
      " |-- publication_year: string (nullable = true)\n",
      " |-- publisher: string (nullable = true)\n",
      " |-- ratings_count: string (nullable = true)\n",
      " |-- series: array (nullable = true)\n",
      " |    |-- element: string (containsNull = true)\n",
      " |-- similar_books: array (nullable = true)\n",
      " |    |-- element: string (containsNull = true)\n",
      " |-- text_reviews_count: string (nullable = true)\n",
      " |-- title: string (nullable = true)\n",
      " |-- title_without_series: string (nullable = true)\n",
      " |-- url: string (nullable = true)\n",
      " |-- work_id: string (nullable = true)\n",
      "\n"
     ]
    }
   ],
   "source": [
    "books.printSchema()"
   ]
  },
  {
   "cell_type": "code",
   "execution_count": 27,
   "metadata": {},
   "outputs": [
    {
     "name": "stderr",
     "output_type": "stream",
     "text": [
      "                                                                                \r"
     ]
    },
    {
     "data": {
      "text/html": [
       "<div>\n",
       "<style scoped>\n",
       "    .dataframe tbody tr th:only-of-type {\n",
       "        vertical-align: middle;\n",
       "    }\n",
       "\n",
       "    .dataframe tbody tr th {\n",
       "        vertical-align: top;\n",
       "    }\n",
       "\n",
       "    .dataframe thead th {\n",
       "        text-align: right;\n",
       "    }\n",
       "</style>\n",
       "<table border=\"1\" class=\"dataframe\">\n",
       "  <thead>\n",
       "    <tr style=\"text-align: right;\">\n",
       "      <th></th>\n",
       "      <th>summary</th>\n",
       "      <th>asin</th>\n",
       "      <th>average_rating</th>\n",
       "      <th>book_id</th>\n",
       "      <th>country_code</th>\n",
       "      <th>description</th>\n",
       "      <th>edition_information</th>\n",
       "      <th>format</th>\n",
       "      <th>image_url</th>\n",
       "      <th>is_ebook</th>\n",
       "      <th>...</th>\n",
       "      <th>publication_day</th>\n",
       "      <th>publication_month</th>\n",
       "      <th>publication_year</th>\n",
       "      <th>publisher</th>\n",
       "      <th>ratings_count</th>\n",
       "      <th>text_reviews_count</th>\n",
       "      <th>title</th>\n",
       "      <th>title_without_series</th>\n",
       "      <th>url</th>\n",
       "      <th>work_id</th>\n",
       "    </tr>\n",
       "  </thead>\n",
       "  <tbody>\n",
       "    <tr>\n",
       "      <th>0</th>\n",
       "      <td>count</td>\n",
       "      <td>2360655</td>\n",
       "      <td>2360655</td>\n",
       "      <td>2360655</td>\n",
       "      <td>2360655</td>\n",
       "      <td>2360655</td>\n",
       "      <td>2360655</td>\n",
       "      <td>2360655</td>\n",
       "      <td>2360655</td>\n",
       "      <td>2360655</td>\n",
       "      <td>...</td>\n",
       "      <td>2360655</td>\n",
       "      <td>2360655</td>\n",
       "      <td>2360655</td>\n",
       "      <td>2360655</td>\n",
       "      <td>2360655</td>\n",
       "      <td>2360655</td>\n",
       "      <td>2360655</td>\n",
       "      <td>2360655</td>\n",
       "      <td>2360655</td>\n",
       "      <td>2360655</td>\n",
       "    </tr>\n",
       "    <tr>\n",
       "      <th>1</th>\n",
       "      <td>mean</td>\n",
       "      <td>6.6170195601576395E9</td>\n",
       "      <td>3.865792441182683</td>\n",
       "      <td>1.5409527218918901E7</td>\n",
       "      <td>None</td>\n",
       "      <td>1.6316489590649722E12</td>\n",
       "      <td>1.0932477766297789E10</td>\n",
       "      <td>208.0</td>\n",
       "      <td>None</td>\n",
       "      <td>None</td>\n",
       "      <td>...</td>\n",
       "      <td>12.100377481054851</td>\n",
       "      <td>6.422773074554547</td>\n",
       "      <td>2007.6144852728232</td>\n",
       "      <td>Infinity</td>\n",
       "      <td>406.307368531662</td>\n",
       "      <td>28.086682900228844</td>\n",
       "      <td>Infinity</td>\n",
       "      <td>Infinity</td>\n",
       "      <td>None</td>\n",
       "      <td>2.074910529208633E7</td>\n",
       "    </tr>\n",
       "    <tr>\n",
       "      <th>2</th>\n",
       "      <td>stddev</td>\n",
       "      <td>3.9894892570530663E9</td>\n",
       "      <td>0.5406797641219261</td>\n",
       "      <td>1.0818966681787824E7</td>\n",
       "      <td>None</td>\n",
       "      <td>3.7514592201379785E12</td>\n",
       "      <td>3.268587417054502E11</td>\n",
       "      <td>44.54211490264017</td>\n",
       "      <td>None</td>\n",
       "      <td>None</td>\n",
       "      <td>...</td>\n",
       "      <td>10.005777584828621</td>\n",
       "      <td>3.4244416135997713</td>\n",
       "      <td>248.07579162968696</td>\n",
       "      <td>NaN</td>\n",
       "      <td>11126.34738973136</td>\n",
       "      <td>378.7806470544982</td>\n",
       "      <td>NaN</td>\n",
       "      <td>NaN</td>\n",
       "      <td>None</td>\n",
       "      <td>1.9117373085523047E7</td>\n",
       "    </tr>\n",
       "    <tr>\n",
       "      <th>3</th>\n",
       "      <td>min</td>\n",
       "      <td></td>\n",
       "      <td></td>\n",
       "      <td>1</td>\n",
       "      <td></td>\n",
       "      <td></td>\n",
       "      <td></td>\n",
       "      <td></td>\n",
       "      <td></td>\n",
       "      <td></td>\n",
       "      <td>...</td>\n",
       "      <td></td>\n",
       "      <td></td>\n",
       "      <td></td>\n",
       "      <td></td>\n",
       "      <td></td>\n",
       "      <td></td>\n",
       "      <td></td>\n",
       "      <td></td>\n",
       "      <td></td>\n",
       "      <td></td>\n",
       "    </tr>\n",
       "    <tr>\n",
       "      <th>4</th>\n",
       "      <td>max</td>\n",
       "      <td>www.amazon</td>\n",
       "      <td>5.00</td>\n",
       "      <td>9999995</td>\n",
       "      <td>US</td>\n",
       "      <td>Vi kien truc su tai hoa nam nao khong con, nh...</td>\n",
       "      <td></td>\n",
       "      <td>zip</td>\n",
       "      <td>https://s.gr-assets.com/assets/nophoto/book/11...</td>\n",
       "      <td>true</td>\n",
       "      <td>...</td>\n",
       "      <td>9</td>\n",
       "      <td>9</td>\n",
       "      <td>9999</td>\n",
       "      <td>|Pimlico</td>\n",
       "      <td>9999</td>\n",
       "      <td>999</td>\n",
       "      <td>［新釈］養生訓</td>\n",
       "      <td>［新釈］養生訓</td>\n",
       "      <td>https://www.goodreads.com/book/show/9999995-ci...</td>\n",
       "      <td>999994</td>\n",
       "    </tr>\n",
       "  </tbody>\n",
       "</table>\n",
       "<p>5 rows × 26 columns</p>\n",
       "</div>"
      ],
      "text/plain": [
       "  summary                  asin      average_rating               book_id  \\\n",
       "0   count               2360655             2360655               2360655   \n",
       "1    mean  6.6170195601576395E9   3.865792441182683  1.5409527218918901E7   \n",
       "2  stddev  3.9894892570530663E9  0.5406797641219261  1.0818966681787824E7   \n",
       "3     min                                                               1   \n",
       "4     max            www.amazon                5.00               9999995   \n",
       "\n",
       "  country_code                                        description  \\\n",
       "0      2360655                                            2360655   \n",
       "1         None                              1.6316489590649722E12   \n",
       "2         None                              3.7514592201379785E12   \n",
       "3                                                                   \n",
       "4           US  Vi kien truc su tai hoa nam nao khong con, nh...   \n",
       "\n",
       "     edition_information             format  \\\n",
       "0                2360655            2360655   \n",
       "1  1.0932477766297789E10              208.0   \n",
       "2   3.268587417054502E11  44.54211490264017   \n",
       "3                                             \n",
       "4                                      zip   \n",
       "\n",
       "                                           image_url is_ebook  ...  \\\n",
       "0                                            2360655  2360655  ...   \n",
       "1                                               None     None  ...   \n",
       "2                                               None     None  ...   \n",
       "3                                                              ...   \n",
       "4  https://s.gr-assets.com/assets/nophoto/book/11...     true  ...   \n",
       "\n",
       "      publication_day   publication_month    publication_year publisher  \\\n",
       "0             2360655             2360655             2360655   2360655   \n",
       "1  12.100377481054851   6.422773074554547  2007.6144852728232  Infinity   \n",
       "2  10.005777584828621  3.4244416135997713  248.07579162968696       NaN   \n",
       "3                                                                         \n",
       "4                   9                   9                9999  |Pimlico   \n",
       "\n",
       "       ratings_count  text_reviews_count     title title_without_series  \\\n",
       "0            2360655             2360655   2360655              2360655   \n",
       "1   406.307368531662  28.086682900228844  Infinity             Infinity   \n",
       "2  11126.34738973136   378.7806470544982       NaN                  NaN   \n",
       "3                                                                         \n",
       "4               9999                 999   ［新釈］養生訓              ［新釈］養生訓   \n",
       "\n",
       "                                                 url               work_id  \n",
       "0                                            2360655               2360655  \n",
       "1                                               None   2.074910529208633E7  \n",
       "2                                               None  1.9117373085523047E7  \n",
       "3                                                                           \n",
       "4  https://www.goodreads.com/book/show/9999995-ci...                999994  \n",
       "\n",
       "[5 rows x 26 columns]"
      ]
     },
     "execution_count": 27,
     "metadata": {},
     "output_type": "execute_result"
    }
   ],
   "source": [
    "# it around 2 minutes to run\n",
    "books.describe().toPandas()"
   ]
  },
  {
   "cell_type": "markdown",
   "metadata": {},
   "source": [
    "The above table gives a very good overview of the data. We notice that \n",
    "some columns have _inconsistent_ data types. For example, we have an url in `asin` column. It is interesting that `spark` is able to calculate the average even though when the column is string. For instance, `average_rating` is a string column but we can still calculate the average. This is because `spark` is able to convert the string to a number when it is needed.\n",
    "\n",
    "When I view the data, sometimes I will use `toPandas()` method to display the data in a more readable format. However, this is not recommended for large datasets as it will bring all the data to the driver node. It is better to use `show()` method to display the data._So, if you see some results are not very readable, it is because I am using `show()` method to display the data._"
   ]
  },
  {
   "cell_type": "code",
   "execution_count": 25,
   "metadata": {},
   "outputs": [
    {
     "data": {
      "text/html": [
       "<div>\n",
       "<style scoped>\n",
       "    .dataframe tbody tr th:only-of-type {\n",
       "        vertical-align: middle;\n",
       "    }\n",
       "\n",
       "    .dataframe tbody tr th {\n",
       "        vertical-align: top;\n",
       "    }\n",
       "\n",
       "    .dataframe thead th {\n",
       "        text-align: right;\n",
       "    }\n",
       "</style>\n",
       "<table border=\"1\" class=\"dataframe\">\n",
       "  <thead>\n",
       "    <tr style=\"text-align: right;\">\n",
       "      <th></th>\n",
       "      <th>asin</th>\n",
       "      <th>authors</th>\n",
       "      <th>average_rating</th>\n",
       "      <th>book_id</th>\n",
       "      <th>country_code</th>\n",
       "      <th>description</th>\n",
       "      <th>edition_information</th>\n",
       "      <th>format</th>\n",
       "      <th>image_url</th>\n",
       "      <th>is_ebook</th>\n",
       "      <th>...</th>\n",
       "      <th>publication_year</th>\n",
       "      <th>publisher</th>\n",
       "      <th>ratings_count</th>\n",
       "      <th>series</th>\n",
       "      <th>similar_books</th>\n",
       "      <th>text_reviews_count</th>\n",
       "      <th>title</th>\n",
       "      <th>title_without_series</th>\n",
       "      <th>url</th>\n",
       "      <th>work_id</th>\n",
       "    </tr>\n",
       "  </thead>\n",
       "  <tbody>\n",
       "    <tr>\n",
       "      <th>0</th>\n",
       "      <td></td>\n",
       "      <td>[(604031, )]</td>\n",
       "      <td>4.00</td>\n",
       "      <td>5333265</td>\n",
       "      <td>US</td>\n",
       "      <td></td>\n",
       "      <td></td>\n",
       "      <td>Paperback</td>\n",
       "      <td>https://images.gr-assets.com/books/1310220028m...</td>\n",
       "      <td>false</td>\n",
       "      <td>...</td>\n",
       "      <td>1984</td>\n",
       "      <td>St. Martin's Press</td>\n",
       "      <td>3</td>\n",
       "      <td>[]</td>\n",
       "      <td>[]</td>\n",
       "      <td>1</td>\n",
       "      <td>W.C. Fields: A Life on Film</td>\n",
       "      <td>W.C. Fields: A Life on Film</td>\n",
       "      <td>https://www.goodreads.com/book/show/5333265-w-...</td>\n",
       "      <td>5400751</td>\n",
       "    </tr>\n",
       "    <tr>\n",
       "      <th>1</th>\n",
       "      <td></td>\n",
       "      <td>[(626222, )]</td>\n",
       "      <td>3.23</td>\n",
       "      <td>1333909</td>\n",
       "      <td>US</td>\n",
       "      <td>Anita Diamant's international bestseller \"The ...</td>\n",
       "      <td>Abridged</td>\n",
       "      <td>Audio CD</td>\n",
       "      <td>https://s.gr-assets.com/assets/nophoto/book/11...</td>\n",
       "      <td>false</td>\n",
       "      <td>...</td>\n",
       "      <td>2001</td>\n",
       "      <td>Simon &amp; Schuster Audio</td>\n",
       "      <td>10</td>\n",
       "      <td>[]</td>\n",
       "      <td>[8709549, 17074050, 28937, 158816, 228563, 112...</td>\n",
       "      <td>6</td>\n",
       "      <td>Good Harbor</td>\n",
       "      <td>Good Harbor</td>\n",
       "      <td>https://www.goodreads.com/book/show/1333909.Go...</td>\n",
       "      <td>1323437</td>\n",
       "    </tr>\n",
       "    <tr>\n",
       "      <th>2</th>\n",
       "      <td>B00071IKUY</td>\n",
       "      <td>[(10333, )]</td>\n",
       "      <td>4.03</td>\n",
       "      <td>7327624</td>\n",
       "      <td>US</td>\n",
       "      <td>Omnibus book club edition containing the Ladie...</td>\n",
       "      <td>Book Club Edition</td>\n",
       "      <td>Hardcover</td>\n",
       "      <td>https://images.gr-assets.com/books/1304100136m...</td>\n",
       "      <td>false</td>\n",
       "      <td>...</td>\n",
       "      <td>1987</td>\n",
       "      <td>Nelson Doubleday, Inc.</td>\n",
       "      <td>140</td>\n",
       "      <td>[189911]</td>\n",
       "      <td>[19997, 828466, 1569323, 425389, 1176674, 2627...</td>\n",
       "      <td>7</td>\n",
       "      <td>The Unschooled Wizard (Sun Wolf and Starhawk, ...</td>\n",
       "      <td>The Unschooled Wizard (Sun Wolf and Starhawk, ...</td>\n",
       "      <td>https://www.goodreads.com/book/show/7327624-th...</td>\n",
       "      <td>8948723</td>\n",
       "    </tr>\n",
       "    <tr>\n",
       "      <th>3</th>\n",
       "      <td></td>\n",
       "      <td>[(9212, )]</td>\n",
       "      <td>3.49</td>\n",
       "      <td>6066819</td>\n",
       "      <td>US</td>\n",
       "      <td>Addie Downs and Valerie Adler were eight when ...</td>\n",
       "      <td></td>\n",
       "      <td>Hardcover</td>\n",
       "      <td>https://s.gr-assets.com/assets/nophoto/book/11...</td>\n",
       "      <td>false</td>\n",
       "      <td>...</td>\n",
       "      <td>2009</td>\n",
       "      <td>Atria Books</td>\n",
       "      <td>51184</td>\n",
       "      <td>[]</td>\n",
       "      <td>[6604176, 6054190, 2285777, 82641, 7569453, 70...</td>\n",
       "      <td>3282</td>\n",
       "      <td>Best Friends Forever</td>\n",
       "      <td>Best Friends Forever</td>\n",
       "      <td>https://www.goodreads.com/book/show/6066819-be...</td>\n",
       "      <td>6243154</td>\n",
       "    </tr>\n",
       "    <tr>\n",
       "      <th>4</th>\n",
       "      <td></td>\n",
       "      <td>[(149918, )]</td>\n",
       "      <td>3.40</td>\n",
       "      <td>287140</td>\n",
       "      <td>US</td>\n",
       "      <td></td>\n",
       "      <td></td>\n",
       "      <td></td>\n",
       "      <td>https://images.gr-assets.com/books/1413219371m...</td>\n",
       "      <td>false</td>\n",
       "      <td>...</td>\n",
       "      <td></td>\n",
       "      <td></td>\n",
       "      <td>15</td>\n",
       "      <td>[]</td>\n",
       "      <td>[]</td>\n",
       "      <td>5</td>\n",
       "      <td>Runic Astrology: Starcraft and Timekeeping in ...</td>\n",
       "      <td>Runic Astrology: Starcraft and Timekeeping in ...</td>\n",
       "      <td>https://www.goodreads.com/book/show/287140.Run...</td>\n",
       "      <td>278577</td>\n",
       "    </tr>\n",
       "  </tbody>\n",
       "</table>\n",
       "<p>5 rows × 29 columns</p>\n",
       "</div>"
      ],
      "text/plain": [
       "         asin       authors average_rating  book_id country_code  \\\n",
       "0              [(604031, )]           4.00  5333265           US   \n",
       "1              [(626222, )]           3.23  1333909           US   \n",
       "2  B00071IKUY   [(10333, )]           4.03  7327624           US   \n",
       "3                [(9212, )]           3.49  6066819           US   \n",
       "4              [(149918, )]           3.40   287140           US   \n",
       "\n",
       "                                         description edition_information  \\\n",
       "0                                                                          \n",
       "1  Anita Diamant's international bestseller \"The ...            Abridged   \n",
       "2  Omnibus book club edition containing the Ladie...   Book Club Edition   \n",
       "3  Addie Downs and Valerie Adler were eight when ...                       \n",
       "4                                                                          \n",
       "\n",
       "      format                                          image_url is_ebook  ...  \\\n",
       "0  Paperback  https://images.gr-assets.com/books/1310220028m...    false  ...   \n",
       "1   Audio CD  https://s.gr-assets.com/assets/nophoto/book/11...    false  ...   \n",
       "2  Hardcover  https://images.gr-assets.com/books/1304100136m...    false  ...   \n",
       "3  Hardcover  https://s.gr-assets.com/assets/nophoto/book/11...    false  ...   \n",
       "4             https://images.gr-assets.com/books/1413219371m...    false  ...   \n",
       "\n",
       "  publication_year               publisher ratings_count    series  \\\n",
       "0             1984      St. Martin's Press             3        []   \n",
       "1             2001  Simon & Schuster Audio            10        []   \n",
       "2             1987  Nelson Doubleday, Inc.           140  [189911]   \n",
       "3             2009             Atria Books         51184        []   \n",
       "4                                                     15        []   \n",
       "\n",
       "                                       similar_books text_reviews_count  \\\n",
       "0                                                 []                  1   \n",
       "1  [8709549, 17074050, 28937, 158816, 228563, 112...                  6   \n",
       "2  [19997, 828466, 1569323, 425389, 1176674, 2627...                  7   \n",
       "3  [6604176, 6054190, 2285777, 82641, 7569453, 70...               3282   \n",
       "4                                                 []                  5   \n",
       "\n",
       "                                               title  \\\n",
       "0                        W.C. Fields: A Life on Film   \n",
       "1                                        Good Harbor   \n",
       "2  The Unschooled Wizard (Sun Wolf and Starhawk, ...   \n",
       "3                               Best Friends Forever   \n",
       "4  Runic Astrology: Starcraft and Timekeeping in ...   \n",
       "\n",
       "                                title_without_series  \\\n",
       "0                        W.C. Fields: A Life on Film   \n",
       "1                                        Good Harbor   \n",
       "2  The Unschooled Wizard (Sun Wolf and Starhawk, ...   \n",
       "3                               Best Friends Forever   \n",
       "4  Runic Astrology: Starcraft and Timekeeping in ...   \n",
       "\n",
       "                                                 url  work_id  \n",
       "0  https://www.goodreads.com/book/show/5333265-w-...  5400751  \n",
       "1  https://www.goodreads.com/book/show/1333909.Go...  1323437  \n",
       "2  https://www.goodreads.com/book/show/7327624-th...  8948723  \n",
       "3  https://www.goodreads.com/book/show/6066819-be...  6243154  \n",
       "4  https://www.goodreads.com/book/show/287140.Run...   278577  \n",
       "\n",
       "[5 rows x 29 columns]"
      ]
     },
     "execution_count": 25,
     "metadata": {},
     "output_type": "execute_result"
    }
   ],
   "source": [
    "books.limit(5).toPandas()"
   ]
  },
  {
   "cell_type": "markdown",
   "metadata": {},
   "source": [
    "Scince we will build a `AI-Powered Search Engine`, we need to think about our end goal. When a user searches for a book, she/he could either search by the title, author, or the genre. With ai-powered search engine, users could also search by some description of the book. Therefore, we will focus on the following columns:\n",
    "\n",
    "- `title`\n",
    "- `authors`\n",
    "- `description`\n",
    "- `average_rating`\n",
    "- `ratings_count`\n",
    "- `text_reviews_count`\n",
    "- `popular_shelves`\n",
    "- `similar_books`"
   ]
  },
  {
   "cell_type": "markdown",
   "metadata": {},
   "source": [
    "### Exploratory Data Analysis\n",
    "\n",
    "We will perform some exploratory data analysis to understand the data better. When you work on any machine learning or natural language processing project, it is very important to understand the data. This is because the data will guide you to choose the right model and the right features."
   ]
  },
  {
   "cell_type": "code",
   "execution_count": 30,
   "metadata": {},
   "outputs": [
    {
     "data": {
      "text/plain": [
       "['asin',\n",
       " 'authors',\n",
       " 'average_rating',\n",
       " 'book_id',\n",
       " 'country_code',\n",
       " 'description',\n",
       " 'edition_information',\n",
       " 'format',\n",
       " 'image_url',\n",
       " 'is_ebook',\n",
       " 'isbn',\n",
       " 'isbn13',\n",
       " 'kindle_asin',\n",
       " 'language_code',\n",
       " 'link',\n",
       " 'num_pages',\n",
       " 'popular_shelves',\n",
       " 'publication_day',\n",
       " 'publication_month',\n",
       " 'publication_year',\n",
       " 'publisher',\n",
       " 'ratings_count',\n",
       " 'series',\n",
       " 'similar_books',\n",
       " 'text_reviews_count',\n",
       " 'title',\n",
       " 'title_without_series',\n",
       " 'url',\n",
       " 'work_id']"
      ]
     },
     "execution_count": 30,
     "metadata": {},
     "output_type": "execute_result"
    }
   ],
   "source": [
    "books.columns"
   ]
  },
  {
   "cell_type": "code",
   "execution_count": 7,
   "metadata": {},
   "outputs": [
    {
     "name": "stderr",
     "output_type": "stream",
     "text": [
      "[Stage 1:>                                                          (0 + 1) / 1]\r"
     ]
    },
    {
     "name": "stdout",
     "output_type": "stream",
     "text": [
      "+-------+--------------------+--------------------+------------+--------------------+---------+----------------+------------+-------------+--------------+-------------+------------------+\n",
      "|book_id|               title|         description|     authors|                link|num_pages|publication_year|country_code|language_code|average_rating|ratings_count|text_reviews_count|\n",
      "+-------+--------------------+--------------------+------------+--------------------+---------+----------------+------------+-------------+--------------+-------------+------------------+\n",
      "|5333265|W.C. Fields: A Li...|                    |[{604031, }]|https://www.goodr...|      256|            1984|          US|             |          4.00|            3|                 1|\n",
      "|1333909|         Good Harbor|Anita Diamant's i...|[{626222, }]|https://www.goodr...|         |            2001|          US|             |          3.23|           10|                 6|\n",
      "|7327624|The Unschooled Wi...|Omnibus book club...| [{10333, }]|https://www.goodr...|      600|            1987|          US|          eng|          4.03|          140|                 7|\n",
      "|6066819|Best Friends Forever|Addie Downs and V...|  [{9212, }]|https://www.goodr...|      368|            2009|          US|          eng|          3.49|        51184|              3282|\n",
      "| 287140|Runic Astrology: ...|                    |[{149918, }]|https://www.goodr...|         |                |          US|             |          3.40|           15|                 5|\n",
      "+-------+--------------------+--------------------+------------+--------------------+---------+----------------+------------+-------------+--------------+-------------+------------------+\n",
      "only showing top 5 rows\n",
      "\n"
     ]
    },
    {
     "name": "stderr",
     "output_type": "stream",
     "text": [
      "                                                                                \r"
     ]
    }
   ],
   "source": [
    "selected_columns = [\n",
    "    'book_id', 'title', 'description', 'authors', 'link',\n",
    "    'num_pages', 'publication_year', 'country_code', 'language_code',\n",
    "    'average_rating', 'ratings_count', 'text_reviews_count'\n",
    "]\n",
    "\n",
    "book_df = books.select(selected_columns)\n",
    "\n",
    "# cache the dataframe\n",
    "book_df.cache()\n",
    "\n",
    "# Persist a DataFrame with MEMORY_AND_DISK storage level\n",
    "# This is useful when the DataFrame is too large to fit in memory\n",
    "# use it if your memory is not enough\n",
    "# book_df.persist(StorageLevel.MEMORY_AND_DISK)\n",
    "\n",
    "book_df.show(5)"
   ]
  },
  {
   "cell_type": "code",
   "execution_count": 9,
   "metadata": {},
   "outputs": [
    {
     "name": "stdout",
     "output_type": "stream",
     "text": [
      "+------------+-------+\n",
      "|country_code|  count|\n",
      "+------------+-------+\n",
      "|          US|2360165|\n",
      "|            |    490|\n",
      "+------------+-------+\n",
      "\n"
     ]
    }
   ],
   "source": [
    "# check distribution of country_code\n",
    "book_df.groupBy(\"country_code\").count().show()"
   ]
  },
  {
   "cell_type": "code",
   "execution_count": 10,
   "metadata": {},
   "outputs": [],
   "source": [
    "# since almost all books are from US, we can drop this column\n",
    "book_df = book_df.drop(\"country_code\")"
   ]
  },
  {
   "cell_type": "code",
   "execution_count": 8,
   "metadata": {},
   "outputs": [
    {
     "name": "stdout",
     "output_type": "stream",
     "text": [
      "+-------------+-------+\n",
      "|language_code|  count|\n",
      "+-------------+-------+\n",
      "|             |1060153|\n",
      "|          eng| 708457|\n",
      "|        en-US|  91452|\n",
      "|        en-GB|  58358|\n",
      "|          spa|  54524|\n",
      "|          ita|  50902|\n",
      "|          ara|  42978|\n",
      "|          fre|  32046|\n",
      "|          ger|  30941|\n",
      "|          ind|  27291|\n",
      "+-------------+-------+\n",
      "only showing top 10 rows\n",
      "\n"
     ]
    }
   ],
   "source": [
    "# check distribution of language_code\n",
    "# and sort by count in descending order\n",
    "book_df.groupBy(\"language_code\").count().orderBy(\"count\", ascending=False).show(10)"
   ]
  },
  {
   "cell_type": "markdown",
   "metadata": {},
   "source": [
    "In our project, we will only focus on English books. Therefore, we will filter the data to only include English books."
   ]
  },
  {
   "cell_type": "code",
   "execution_count": 9,
   "metadata": {},
   "outputs": [
    {
     "name": "stdout",
     "output_type": "stream",
     "text": [
      "Number of rows before filtering: 2360655\n",
      "Number of rows after filtering: 866183\n",
      "+--------+--------------------+--------------------+-------------+--------------------+---------+----------------+------------+-------------+--------------+-------------+------------------+\n",
      "| book_id|               title|         description|      authors|                link|num_pages|publication_year|country_code|language_code|average_rating|ratings_count|text_reviews_count|\n",
      "+--------+--------------------+--------------------+-------------+--------------------+---------+----------------+------------+-------------+--------------+-------------+------------------+\n",
      "| 7327624|The Unschooled Wi...|Omnibus book club...|  [{10333, }]|https://www.goodr...|      600|            1987|          US|          eng|          4.03|          140|                 7|\n",
      "| 6066819|Best Friends Forever|Addie Downs and V...|   [{9212, }]|https://www.goodr...|      368|            2009|          US|          eng|          3.49|        51184|              3282|\n",
      "|33394837|The House of Memo...|                    | [{242185, }]|https://www.goodr...|      318|                |          US|          eng|          4.33|          269|                60|\n",
      "|   89373|The Bonfire of th...|                    |[{3083854, }]|https://www.goodr...|         |                |          US|          eng|          3.82|           77|                19|\n",
      "|   89376|              Heaven|What is Heaven re...|   [{4862, }]|https://www.goodr...|      533|                |          US|          eng|          4.26|         7345|               566|\n",
      "+--------+--------------------+--------------------+-------------+--------------------+---------+----------------+------------+-------------+--------------+-------------+------------------+\n",
      "only showing top 5 rows\n",
      "\n"
     ]
    }
   ],
   "source": [
    "# print number of rows before filtering\n",
    "print(f\"Number of rows before filtering: {book_df.count()}\")\n",
    "# filter book_df by language_code like 'en%'\n",
    "en_books = book_df.filter(book_df.language_code.like(\"en%\"))\n",
    "# print number of rows after filtering\n",
    "print(f\"Number of rows after filtering: {en_books.count()}\")\n",
    "en_books.show(5)"
   ]
  },
  {
   "cell_type": "code",
   "execution_count": 13,
   "metadata": {},
   "outputs": [
    {
     "name": "stdout",
     "output_type": "stream",
     "text": [
      "+--------------------+--------------+-------------+\n",
      "|               title|average_rating|ratings_count|\n",
      "+--------------------+--------------+-------------+\n",
      "|Parker Pyne Inves...|          3.75|         9999|\n",
      "|The Rescuer (O'Ma...|          4.38|         9996|\n",
      "|Wreck Me (Wrecked...|          4.08|         9996|\n",
      "|Among Thieves (Ta...|          3.95|         9995|\n",
      "|The Girls from Am...|          3.35|         9994|\n",
      "|Red Hill (Red Hil...|          3.91|         9994|\n",
      "|Kodiak's Claim (K...|          3.87|          999|\n",
      "|The Chocolate Gar...|          4.20|          999|\n",
      "|      The Last Ember|          3.67|          999|\n",
      "|   Kill the Next One|          3.76|          999|\n",
      "+--------------------+--------------+-------------+\n",
      "only showing top 10 rows\n",
      "\n"
     ]
    }
   ],
   "source": [
    "# top 10 books with highest text_reviews_count\n",
    "# only show title and average_rating\n",
    "en_books.select(\"title\", \"average_rating\", \"ratings_count\") \\\n",
    "    .orderBy(\"ratings_count\", ascending=False) \\\n",
    "    .show(10)"
   ]
  },
  {
   "cell_type": "code",
   "execution_count": 69,
   "metadata": {},
   "outputs": [
    {
     "name": "stderr",
     "output_type": "stream",
     "text": [
      "                                                                                \r"
     ]
    },
    {
     "data": {
      "image/png": "[encoded data removed]",
      "text/plain": [
       "<Figure size 700x450 with 1 Axes>"
      ]
     },
     "metadata": {},
     "output_type": "display_data"
    }
   ],
   "source": [
    "# sample 1% of the data and plot relationship between\n",
    "# average_rating and ratings_count\n",
    "\n",
    "sampled_books = en_books.sample(fraction=0.01, seed=42)\n",
    "\n",
    "sampled_books_df = sampled_books.toPandas()\n",
    "\n",
    "# convert average_rating and ratings_count to numeric\n",
    "sampled_books_df[\"average_rating\"] = pd.to_numeric(sampled_books_df[\"average_rating\"])\n",
    "sampled_books_df[\"ratings_count\"] = pd.to_numeric(sampled_books_df[\"ratings_count\"])\n",
    "\n",
    "\n",
    "# figure size\n",
    "plt.figure(figsize=(7, 4.5))\n",
    "sns.scatterplot(data=sampled_books_df, x=\"ratings_count\", y=\"average_rating\")\n",
    "# set x to log scale\n",
    "plt.xscale(\"log\")\n",
    "plt.title(\"Relationship between Ratings Count and Average Rating\")\n",
    "plt.show()"
   ]
  },
  {
   "cell_type": "markdown",
   "metadata": {},
   "source": [
    "From above figure, we can see that average rating converges to 4.0 when the number of ratings is high. This reflects the law of large numbers. In business, it means that the more people rate a book, the more the average rating will converge to the true average rating of the book."
   ]
  },
  {
   "cell_type": "markdown",
   "metadata": {},
   "source": [
    "## ETL Pipeline\n",
    "\n",
    "Now we will build the ETL pipeline. We will perform the following steps:\n",
    "\n",
    "- Extract the data from the Google Storage bucket\n",
    "    - books: `goodreads/goodreads_books.json.gz`\n",
    "    - authors: `goodreads/goodreads_book_authors.json.gz`\n",
    "    - reviews: `goodreads/goodreads_reviews_dedup.json.gz`\n",
    "- Transform the data\n",
    "    - Filter the data to only include English books\n",
    "    - Join the books and authors data\n",
    "    - Join the books and reviews data\n",
    "    - Select the columns that we will use in the search engine\n",
    "- Load the data into the Google Storage bucket"
   ]
  },
  {
   "cell_type": "code",
   "execution_count": 14,
   "metadata": {},
   "outputs": [
    {
     "name": "stdout",
     "output_type": "stream",
     "text": [
      "+--------+--------------------+--------------------+-------------+--------------------+---------+----------------+-------------+--------------+-------------+------------------+\n",
      "| book_id|               title|         description|      authors|                link|num_pages|publication_year|language_code|average_rating|ratings_count|text_reviews_count|\n",
      "+--------+--------------------+--------------------+-------------+--------------------+---------+----------------+-------------+--------------+-------------+------------------+\n",
      "| 7327624|The Unschooled Wi...|Omnibus book club...|  [{10333, }]|https://www.goodr...|      600|            1987|          eng|          4.03|          140|                 7|\n",
      "| 6066819|Best Friends Forever|Addie Downs and V...|   [{9212, }]|https://www.goodr...|      368|            2009|          eng|          3.49|        51184|              3282|\n",
      "|33394837|The House of Memo...|                    | [{242185, }]|https://www.goodr...|      318|                |          eng|          4.33|          269|                60|\n",
      "|   89373|The Bonfire of th...|                    |[{3083854, }]|https://www.goodr...|         |                |          eng|          3.82|           77|                19|\n",
      "|   89376|              Heaven|What is Heaven re...|   [{4862, }]|https://www.goodr...|      533|                |          eng|          4.26|         7345|               566|\n",
      "+--------+--------------------+--------------------+-------------+--------------------+---------+----------------+-------------+--------------+-------------+------------------+\n",
      "only showing top 5 rows\n",
      "\n"
     ]
    }
   ],
   "source": [
    "# we will use en_books dataframe for further analysis\n",
    "en_books.show(5)"
   ]
  },
  {
   "cell_type": "code",
   "execution_count": 15,
   "metadata": {},
   "outputs": [
    {
     "name": "stdout",
     "output_type": "stream",
     "text": [
      "Missing values for title: 2\n",
      "Missing values for description: 75940\n"
     ]
    }
   ],
   "source": [
    "# check missing values for title, description\n",
    "check_missing_cols = [\"title\", \"description\"]\n",
    "\n",
    "# missing values is ' ' for string columns not null\n",
    "# count missing values for each column\n",
    "\n",
    "for col in check_missing_cols:\n",
    "    print(f\"Missing values for {col}: {en_books.filter(en_books[col] == '').count()}\")\n"
   ]
  },
  {
   "cell_type": "code",
   "execution_count": 16,
   "metadata": {},
   "outputs": [
    {
     "name": "stdout",
     "output_type": "stream",
     "text": [
      "+--------------------+\n",
      "|             authors|\n",
      "+--------------------+\n",
      "|       [{5352392, }]|\n",
      "|       [{4119242, }]|\n",
      "|       [{2906082, }]|\n",
      "|[{2765337, }, {27...|\n",
      "|       [{4667203, }]|\n",
      "|      [{15502495, }]|\n",
      "|       [{1899287, }]|\n",
      "|       [{9873363, }]|\n",
      "|[{5370407, }, {75...|\n",
      "|         [{16166, }]|\n",
      "+--------------------+\n",
      "only showing top 10 rows\n",
      "\n"
     ]
    }
   ],
   "source": [
    "# check authors columns as we need to use it to join with other tables\n",
    "\n",
    "# randomly sample 10 rows from en_books['authors']\n",
    "en_books.select(\"authors\").sample(fraction=0.01, seed=42).show(10)"
   ]
  },
  {
   "cell_type": "markdown",
   "metadata": {},
   "source": [
    "As we can see that `authors` is a list of dictionaries. We will flatten the `authors` column to make it easier to work with. "
   ]
  },
  {
   "cell_type": "code",
   "execution_count": 10,
   "metadata": {},
   "outputs": [
    {
     "name": "stdout",
     "output_type": "stream",
     "text": [
      "+--------+--------------------+--------------------+-------------+--------------------+---------+----------------+------------+-------------+--------------+-------------+------------------+-----------+\n",
      "| book_id|               title|         description|      authors|                link|num_pages|publication_year|country_code|language_code|average_rating|ratings_count|text_reviews_count|     author|\n",
      "+--------+--------------------+--------------------+-------------+--------------------+---------+----------------+------------+-------------+--------------+-------------+------------------+-----------+\n",
      "| 7327624|The Unschooled Wi...|Omnibus book club...|  [{10333, }]|https://www.goodr...|      600|            1987|          US|          eng|          4.03|          140|                 7|  {10333, }|\n",
      "| 6066819|Best Friends Forever|Addie Downs and V...|   [{9212, }]|https://www.goodr...|      368|            2009|          US|          eng|          3.49|        51184|              3282|   {9212, }|\n",
      "|33394837|The House of Memo...|                    | [{242185, }]|https://www.goodr...|      318|                |          US|          eng|          4.33|          269|                60| {242185, }|\n",
      "|   89373|The Bonfire of th...|                    |[{3083854, }]|https://www.goodr...|         |                |          US|          eng|          3.82|           77|                19|{3083854, }|\n",
      "|   89376|              Heaven|What is Heaven re...|   [{4862, }]|https://www.goodr...|      533|                |          US|          eng|          4.26|         7345|               566|   {4862, }|\n",
      "+--------+--------------------+--------------------+-------------+--------------------+---------+----------------+------------+-------------+--------------+-------------+------------------+-----------+\n",
      "only showing top 5 rows\n",
      "\n"
     ]
    }
   ],
   "source": [
    "from pyspark.sql.functions import explode\n",
    "en_books_flat = en_books.select(\"*\", explode(\"authors\").alias(\"author\"))\n",
    "\n",
    "en_books_flat.show(5)"
   ]
  },
  {
   "cell_type": "code",
   "execution_count": 18,
   "metadata": {},
   "outputs": [
    {
     "name": "stdout",
     "output_type": "stream",
     "text": [
      "+-----------------------------------------------------------------------------------------------------------------------------------------------------------------------------------------------------------------------------------------------------------------------------------------------------------------------------------------------------------------------------------------------------------------+------------------------+\n",
      "|authors                                                                                                                                                                                                                                                                                                                                                                                                          |author                  |\n",
      "+-----------------------------------------------------------------------------------------------------------------------------------------------------------------------------------------------------------------------------------------------------------------------------------------------------------------------------------------------------------------------------------------------------------------+------------------------+\n",
      "|[{25108, }, {2339869, Narrator}]                                                                                                                                                                                                                                                                                                                                                                                 |{25108, }               |\n",
      "|[{15165816, }, {4741032, }, {15265828, Introduction}]                                                                                                                                                                                                                                                                                                                                                            |{15265828, Introduction}|\n",
      "|[{7246093, }]                                                                                                                                                                                                                                                                                                                                                                                                    |{7246093, }             |\n",
      "|[{2568433, }]                                                                                                                                                                                                                                                                                                                                                                                                    |{2568433, }             |\n",
      "|[{20010, }, {16207, }, {50802, }]                                                                                                                                                                                                                                                                                                                                                                                |{50802, }               |\n",
      "|[{4837368, }]                                                                                                                                                                                                                                                                                                                                                                                                    |{4837368, }             |\n",
      "|[{2901559, Creator}, {1411091, Translator}]                                                                                                                                                                                                                                                                                                                                                                      |{2901559, Creator}      |\n",
      "|[{1161372, Editor}, {20295, }, {377417, }, {908868, }, {24902, }, {25376, }, {2917033, }, {2951127, }, {51204, }, {874602, }, {3389, }, {2283303, }, {5373338, }, {33919, }, {346732, }, {8988, }, {121364, }, {57814, }, {338705, }, {3001246, }, {589, }, {4632660, }, {2860219, }, {4338, }, {3036291, Contributor}, {142270, Contributor}, {14454, }, {22645, }, {49624, }, {27841, }, {3524, }, {4396277, }]|{121364, }              |\n",
      "|[{9018, Writer}, {10312, Penciler}, {335949, Inker}, {317710, Colourist}, {7770422, Colourist}, {5752958, Letterer}, {6865128, Artist}]                                                                                                                                                                                                                                                                          |{335949, Inker}         |\n",
      "|[{6927649, }]                                                                                                                                                                                                                                                                                                                                                                                                    |{6927649, }             |\n",
      "+-----------------------------------------------------------------------------------------------------------------------------------------------------------------------------------------------------------------------------------------------------------------------------------------------------------------------------------------------------------------------------------------------------------------+------------------------+\n",
      "only showing top 10 rows\n",
      "\n"
     ]
    }
   ],
   "source": [
    "# sample 10 rows from en_books_flat to check authors and author columns\n",
    "# please run this cell multiple times to see different authors\n",
    "en_books_flat.select(\"authors\", \"author\") \\\n",
    "    .sample(fraction=0.01).show(10, truncate=False)"
   ]
  },
  {
   "cell_type": "code",
   "execution_count": 11,
   "metadata": {},
   "outputs": [
    {
     "name": "stdout",
     "output_type": "stream",
     "text": [
      "+---------+-----------+--------+--------------------+--------------------+--------------------+--------------------+---------+----------------+------------+-------------+--------------+-------------+------------------+-------------------+\n",
      "|author_id|       role| book_id|               title|         description|             authors|                link|num_pages|publication_year|country_code|language_code|average_rating|ratings_count|text_reviews_count|             author|\n",
      "+---------+-----------+--------+--------------------+--------------------+--------------------+--------------------+---------+----------------+------------+-------------+--------------+-------------+------------------+-------------------+\n",
      "|  3413928|           | 7843586|     More (More, #1)|After a series of...|       [{3413928, }]|https://www.goodr...|      245|            2010|          US|          eng|          3.88|         1675|               215|        {3413928, }|\n",
      "| 14859335|     Editor|30309543|      Sleepless Fate|Should a person h...|[{14859335, Editor}]|https://www.goodr...|         |                |          US|          eng|          3.93|           33|                10| {14859335, Editor}|\n",
      "|  5821280|     Editor|13611714|Prom Dates to Die...|Five young adult ...|[{5821280, Editor...|https://www.goodr...|      140|            2012|          US|          eng|          3.57|           18|                12|  {5821280, Editor}|\n",
      "|  4837368|           |25268526|   Sullivan's Secret|Dr. Marie Bartek'...|       [{4837368, }]|https://www.goodr...|      130|            2014|          US|          eng|          3.71|            3|                 1|        {4837368, }|\n",
      "|     2085|Contributor|19012266|Reverse Heart Dis...|                    |[{176488, }, {208...|https://www.goodr...|         |            2008|          US|          eng|          4.18|            2|                 1|{2085, Contributor}|\n",
      "+---------+-----------+--------+--------------------+--------------------+--------------------+--------------------+---------+----------------+------------+-------------+--------------+-------------+------------------+-------------------+\n",
      "only showing top 5 rows\n",
      "\n"
     ]
    }
   ],
   "source": [
    "# it is important to know that\n",
    "# author is STRUCT<author_id: STRING, role: STRING>\n",
    "# now we will use selectExpr to select author_id and role from authors\n",
    "en_books_auth_id = en_books_flat.selectExpr(\n",
    "    \"author.author_id as author_id\",\n",
    "    \"author.role as role\",\n",
    "    \"*\"\n",
    "    )\n",
    "\n",
    "# sample 5 rows to check author_id and role\n",
    "en_books_auth_id.sample(fraction=0.01).show(5)"
   ]
  },
  {
   "cell_type": "markdown",
   "metadata": {},
   "source": [
    "### Joining the Data\n",
    "\n",
    "Now we will join the data. We will join `en_books_auth_id` and `authors` dataframes on `author_id` column. We will only use `author_id` and `name` columns from `authors` dataframe."
   ]
  },
  {
   "cell_type": "code",
   "execution_count": 12,
   "metadata": {},
   "outputs": [
    {
     "name": "stderr",
     "output_type": "stream",
     "text": [
      "[Stage 15:>                                                         (0 + 1) / 1]\r"
     ]
    },
    {
     "name": "stdout",
     "output_type": "stream",
     "text": [
      "root\n",
      " |-- author_id: string (nullable = true)\n",
      " |-- average_rating: string (nullable = true)\n",
      " |-- name: string (nullable = true)\n",
      " |-- ratings_count: string (nullable = true)\n",
      " |-- text_reviews_count: string (nullable = true)\n",
      "\n"
     ]
    },
    {
     "name": "stderr",
     "output_type": "stream",
     "text": [
      "                                                                                \r"
     ]
    }
   ],
   "source": [
    "# now we will read goodreads_author dataset\n",
    "author_file_path = f\"gs://{bucket_name}/goodreads/goodreads_book_authors.json.gz\"\n",
    "authors = spark.read.json(author_file_path)\n",
    "\n",
    "authors.printSchema()"
   ]
  },
  {
   "cell_type": "code",
   "execution_count": 10,
   "metadata": {},
   "outputs": [
    {
     "name": "stderr",
     "output_type": "stream",
     "text": [
      "[Stage 13:>                                                         (0 + 1) / 1]\r"
     ]
    },
    {
     "name": "stdout",
     "output_type": "stream",
     "text": [
      "Number of rows in authors: 829529\n"
     ]
    },
    {
     "name": "stderr",
     "output_type": "stream",
     "text": [
      "                                                                                \r"
     ]
    }
   ],
   "source": [
    "# check number of rows\n",
    "print(f\"Number of rows in authors: {authors.count()}\")"
   ]
  },
  {
   "cell_type": "code",
   "execution_count": 22,
   "metadata": {},
   "outputs": [
    {
     "data": {
      "text/html": [
       "<div>\n",
       "<style scoped>\n",
       "    .dataframe tbody tr th:only-of-type {\n",
       "        vertical-align: middle;\n",
       "    }\n",
       "\n",
       "    .dataframe tbody tr th {\n",
       "        vertical-align: top;\n",
       "    }\n",
       "\n",
       "    .dataframe thead th {\n",
       "        text-align: right;\n",
       "    }\n",
       "</style>\n",
       "<table border=\"1\" class=\"dataframe\">\n",
       "  <thead>\n",
       "    <tr style=\"text-align: right;\">\n",
       "      <th></th>\n",
       "      <th>author_id</th>\n",
       "      <th>average_rating</th>\n",
       "      <th>name</th>\n",
       "      <th>ratings_count</th>\n",
       "      <th>text_reviews_count</th>\n",
       "    </tr>\n",
       "  </thead>\n",
       "  <tbody>\n",
       "    <tr>\n",
       "      <th>0</th>\n",
       "      <td>604031</td>\n",
       "      <td>3.98</td>\n",
       "      <td>Ronald J. Fields</td>\n",
       "      <td>49</td>\n",
       "      <td>7</td>\n",
       "    </tr>\n",
       "    <tr>\n",
       "      <th>1</th>\n",
       "      <td>626222</td>\n",
       "      <td>4.08</td>\n",
       "      <td>Anita Diamant</td>\n",
       "      <td>546796</td>\n",
       "      <td>28716</td>\n",
       "    </tr>\n",
       "    <tr>\n",
       "      <th>2</th>\n",
       "      <td>10333</td>\n",
       "      <td>3.92</td>\n",
       "      <td>Barbara Hambly</td>\n",
       "      <td>122118</td>\n",
       "      <td>5075</td>\n",
       "    </tr>\n",
       "    <tr>\n",
       "      <th>3</th>\n",
       "      <td>9212</td>\n",
       "      <td>3.68</td>\n",
       "      <td>Jennifer Weiner</td>\n",
       "      <td>888522</td>\n",
       "      <td>36262</td>\n",
       "    </tr>\n",
       "    <tr>\n",
       "      <th>4</th>\n",
       "      <td>149918</td>\n",
       "      <td>3.82</td>\n",
       "      <td>Nigel Pennick</td>\n",
       "      <td>1740</td>\n",
       "      <td>96</td>\n",
       "    </tr>\n",
       "  </tbody>\n",
       "</table>\n",
       "</div>"
      ],
      "text/plain": [
       "  author_id average_rating              name ratings_count text_reviews_count\n",
       "0    604031           3.98  Ronald J. Fields            49                  7\n",
       "1    626222           4.08     Anita Diamant        546796              28716\n",
       "2     10333           3.92    Barbara Hambly        122118               5075\n",
       "3      9212           3.68   Jennifer Weiner        888522              36262\n",
       "4    149918           3.82     Nigel Pennick          1740                 96"
      ]
     },
     "execution_count": 22,
     "metadata": {},
     "output_type": "execute_result"
    }
   ],
   "source": [
    "# have a look at the data\n",
    "authors.limit(5).toPandas()"
   ]
  },
  {
   "cell_type": "code",
   "execution_count": 13,
   "metadata": {},
   "outputs": [],
   "source": [
    "# drop average_rating and ratings_count and text_reviews_count from authors\n",
    "\n",
    "authors = authors.drop(\"average_rating\", \"ratings_count\", \"text_reviews_count\")"
   ]
  },
  {
   "cell_type": "code",
   "execution_count": 14,
   "metadata": {},
   "outputs": [
    {
     "name": "stderr",
     "output_type": "stream",
     "text": [
      "                                                                                \r"
     ]
    },
    {
     "name": "stdout",
     "output_type": "stream",
     "text": [
      "+---------+----+--------+--------------------+--------------------+-------------+--------------------+---------+----------------+------------+-------------+--------------+-------------+------------------+-----------+---------------+\n",
      "|author_id|role| book_id|               title|         description|      authors|                link|num_pages|publication_year|country_code|language_code|average_rating|ratings_count|text_reviews_count|     author|           name|\n",
      "+---------+----+--------+--------------------+--------------------+-------------+--------------------+---------+----------------+------------+-------------+--------------+-------------+------------------+-----------+---------------+\n",
      "|    10333|    | 7327624|The Unschooled Wi...|Omnibus book club...|  [{10333, }]|https://www.goodr...|      600|            1987|          US|          eng|          4.03|          140|                 7|  {10333, }| Barbara Hambly|\n",
      "|     9212|    | 6066819|Best Friends Forever|Addie Downs and V...|   [{9212, }]|https://www.goodr...|      368|            2009|          US|          eng|          3.49|        51184|              3282|   {9212, }|Jennifer Weiner|\n",
      "|   242185|    |33394837|The House of Memo...|                    | [{242185, }]|https://www.goodr...|      318|                |          US|          eng|          4.33|          269|                60| {242185, }| Carolyn Haines|\n",
      "|  3083854|    |   89373|The Bonfire of th...|                    |[{3083854, }]|https://www.goodr...|         |                |          US|          eng|          3.82|           77|                19|{3083854, }|      Tom Wolfe|\n",
      "|     4862|    |   89376|              Heaven|What is Heaven re...|   [{4862, }]|https://www.goodr...|      533|                |          US|          eng|          4.26|         7345|               566|   {4862, }|   Randy Alcorn|\n",
      "+---------+----+--------+--------------------+--------------------+-------------+--------------------+---------+----------------+------------+-------------+--------------+-------------+------------------+-----------+---------------+\n",
      "only showing top 5 rows\n",
      "\n"
     ]
    }
   ],
   "source": [
    "# join en_books_auth_id with authors on author_id\n",
    "\n",
    "en_books_authors = en_books_auth_id.join(authors, on=\"author_id\")\n",
    "\n",
    "en_books_authors.show(5)"
   ]
  },
  {
   "cell_type": "code",
   "execution_count": 15,
   "metadata": {},
   "outputs": [
    {
     "name": "stderr",
     "output_type": "stream",
     "text": [
      "                                                                                \r"
     ]
    },
    {
     "name": "stdout",
     "output_type": "stream",
     "text": [
      "Number of rows in en_books_authors: 1249655\n"
     ]
    }
   ],
   "source": [
    "# counter rows in en_books_authors\n",
    "print(f\"Number of rows in en_books_authors: {en_books_authors.count()}\")"
   ]
  },
  {
   "cell_type": "markdown",
   "metadata": {},
   "source": [
    "### Concatenating authors\n",
    "\n",
    "After we joining the data, our table grows from around 800K to around 1.2M rows. This is because we have multiple authors for each book. We will concatenate the authors for each book to make it easier to work with. In spark, we can use `concat_ws` function to concatenate the authors. From data engineering perspective, what we are doing is called `group by` and `aggregate`. We are grouping the data by `book_id` and aggregating the data by concatenating the authors."
   ]
  },
  {
   "cell_type": "code",
   "execution_count": 19,
   "metadata": {},
   "outputs": [],
   "source": [
    "# group by book_id and then aggregate authors with seperator ';'\n",
    "from pyspark.sql import functions as F\n",
    "\n",
    "en_books_authors_grouped = en_books_authors.groupBy(\n",
    "    \"book_id\", \"title\", \"description\", \"link\", \"language_code\",\n",
    "    \"average_rating\", \"text_reviews_count\") \\\n",
    "    .agg(F.concat_ws(\";\", F.collect_list(\"name\")).alias(\"authors\"))"
   ]
  },
  {
   "cell_type": "code",
   "execution_count": 20,
   "metadata": {},
   "outputs": [
    {
     "name": "stderr",
     "output_type": "stream",
     "text": [
      "[Stage 36:==============>                                         (9 + 25) / 34]\r"
     ]
    },
    {
     "name": "stdout",
     "output_type": "stream",
     "text": [
      "Number of rows in en_books_authors_grouped: 866176\n"
     ]
    },
    {
     "name": "stderr",
     "output_type": "stream",
     "text": [
      "                                                                                \r"
     ]
    }
   ],
   "source": [
    "# check number of rows, we are back to original number of rows\n",
    "print(f\"Number of rows in en_books_authors_grouped: {en_books_authors_grouped.count()}\")"
   ]
  },
  {
   "cell_type": "code",
   "execution_count": 21,
   "metadata": {},
   "outputs": [
    {
     "name": "stderr",
     "output_type": "stream",
     "text": [
      "[Stage 41:>                                                         (0 + 1) / 1]\r"
     ]
    },
    {
     "name": "stdout",
     "output_type": "stream",
     "text": [
      "+--------+--------------------+--------------------+--------------------+-------------+--------------+------------------+--------------------+\n",
      "| book_id|               title|         description|                link|language_code|average_rating|text_reviews_count|             authors|\n",
      "+--------+--------------------+--------------------+--------------------+-------------+--------------+------------------+--------------------+\n",
      "| 1000059|Green Arrow, Vol....|The reinvention o...|https://www.goodr...|        en-US|          4.02|                39|Kevin Smith;Phil ...|\n",
      "|10000613|Getting Better: W...|As the income gap...|https://www.goodr...|        en-US|          3.61|                15|       Charles Kenny|\n",
      "|   10002|Three Plays: Invo...|Kobo Abe (1924-19...|https://www.goodr...|          eng|          3.94|                 4|Kobo Abe;Donald K...|\n",
      "|10005902|Killer on a Hot T...|Delilah Dickinson...|https://www.goodr...|        en-US|          3.54|                 3|   Livia J. Washburn|\n",
      "| 1000941|Modern American S...|Six excellent sto...|https://www.goodr...|          eng|          3.30|                 2|Ferdinand Schunck...|\n",
      "+--------+--------------------+--------------------+--------------------+-------------+--------------+------------------+--------------------+\n",
      "only showing top 5 rows\n",
      "\n"
     ]
    },
    {
     "name": "stderr",
     "output_type": "stream",
     "text": [
      "                                                                                \r"
     ]
    }
   ],
   "source": [
    "# view the data 5 rows\n",
    "en_books_authors_grouped.show(5)"
   ]
  },
  {
   "cell_type": "code",
   "execution_count": 23,
   "metadata": {},
   "outputs": [
    {
     "name": "stderr",
     "output_type": "stream",
     "text": [
      "                                                                                \r"
     ]
    },
    {
     "name": "stdout",
     "output_type": "stream",
     "text": [
      "Number of rows with empty title:        0\n"
     ]
    }
   ],
   "source": [
    "# check title is empty\n",
    "print(f\"Number of rows with empty title:\\\n",
    "        {en_books_authors_grouped.filter(en_books_authors_grouped.title == ' ').count()}\")"
   ]
  },
  {
   "cell_type": "code",
   "execution_count": 24,
   "metadata": {},
   "outputs": [
    {
     "name": "stderr",
     "output_type": "stream",
     "text": [
      "[Stage 48:>                                                         (0 + 1) / 1]\r"
     ]
    },
    {
     "name": "stdout",
     "output_type": "stream",
     "text": [
      "root\n",
      " |-- book_id: string (nullable = true)\n",
      " |-- date_added: string (nullable = true)\n",
      " |-- date_updated: string (nullable = true)\n",
      " |-- n_comments: long (nullable = true)\n",
      " |-- n_votes: long (nullable = true)\n",
      " |-- rating: long (nullable = true)\n",
      " |-- read_at: string (nullable = true)\n",
      " |-- review_id: string (nullable = true)\n",
      " |-- review_text: string (nullable = true)\n",
      " |-- started_at: string (nullable = true)\n",
      " |-- user_id: string (nullable = true)\n",
      "\n"
     ]
    },
    {
     "name": "stderr",
     "output_type": "stream",
     "text": [
      "                                                                                \r"
     ]
    }
   ],
   "source": [
    "# now we will read reviews dataset\n",
    "reviews_file_path = f\"gs://{bucket_name}/goodreads/goodreads_reviews_dedup.json.gz\"\n",
    "reviews = spark.read.json(reviews_file_path)\n",
    "\n",
    "reviews.printSchema()"
   ]
  },
  {
   "cell_type": "code",
   "execution_count": 25,
   "metadata": {},
   "outputs": [
    {
     "name": "stderr",
     "output_type": "stream",
     "text": [
      "[Stage 49:>                                                         (0 + 1) / 1]\r"
     ]
    },
    {
     "name": "stdout",
     "output_type": "stream",
     "text": [
      "Number of rows in reviews: 15739967\n"
     ]
    },
    {
     "name": "stderr",
     "output_type": "stream",
     "text": [
      "                                                                                \r"
     ]
    }
   ],
   "source": [
    "# check number of rows\n",
    "print(f\"Number of rows in reviews: {reviews.count()}\")"
   ]
  },
  {
   "cell_type": "code",
   "execution_count": 32,
   "metadata": {},
   "outputs": [
    {
     "data": {
      "text/html": [
       "<div>\n",
       "<style scoped>\n",
       "    .dataframe tbody tr th:only-of-type {\n",
       "        vertical-align: middle;\n",
       "    }\n",
       "\n",
       "    .dataframe tbody tr th {\n",
       "        vertical-align: top;\n",
       "    }\n",
       "\n",
       "    .dataframe thead th {\n",
       "        text-align: right;\n",
       "    }\n",
       "</style>\n",
       "<table border=\"1\" class=\"dataframe\">\n",
       "  <thead>\n",
       "    <tr style=\"text-align: right;\">\n",
       "      <th></th>\n",
       "      <th>book_id</th>\n",
       "      <th>date_added</th>\n",
       "      <th>date_updated</th>\n",
       "      <th>n_comments</th>\n",
       "      <th>n_votes</th>\n",
       "      <th>rating</th>\n",
       "      <th>read_at</th>\n",
       "      <th>review_id</th>\n",
       "      <th>review_text</th>\n",
       "      <th>started_at</th>\n",
       "      <th>user_id</th>\n",
       "    </tr>\n",
       "  </thead>\n",
       "  <tbody>\n",
       "    <tr>\n",
       "      <th>0</th>\n",
       "      <td>24375664</td>\n",
       "      <td>Fri Aug 25 13:55:02 -0700 2017</td>\n",
       "      <td>Mon Oct 09 08:55:59 -0700 2017</td>\n",
       "      <td>0</td>\n",
       "      <td>16</td>\n",
       "      <td>5</td>\n",
       "      <td>Sat Oct 07 00:00:00 -0700 2017</td>\n",
       "      <td>5cd416f3efc3f944fce4ce2db2290d5e</td>\n",
       "      <td>Mind blowingly cool. Best science fiction I've...</td>\n",
       "      <td>Sat Aug 26 00:00:00 -0700 2017</td>\n",
       "      <td>8842281e1d1347389f2ab93d60773d4d</td>\n",
       "    </tr>\n",
       "    <tr>\n",
       "      <th>1</th>\n",
       "      <td>18245960</td>\n",
       "      <td>Sun Jul 30 07:44:10 -0700 2017</td>\n",
       "      <td>Wed Aug 30 00:00:26 -0700 2017</td>\n",
       "      <td>1</td>\n",
       "      <td>28</td>\n",
       "      <td>5</td>\n",
       "      <td>Sat Aug 26 12:05:52 -0700 2017</td>\n",
       "      <td>dfdbb7b0eb5a7e4c26d59a937e2e5feb</td>\n",
       "      <td>This is a special book. It started slow for ab...</td>\n",
       "      <td>Tue Aug 15 13:23:18 -0700 2017</td>\n",
       "      <td>8842281e1d1347389f2ab93d60773d4d</td>\n",
       "    </tr>\n",
       "    <tr>\n",
       "      <th>2</th>\n",
       "      <td>6392944</td>\n",
       "      <td>Mon Jul 24 02:48:17 -0700 2017</td>\n",
       "      <td>Sun Jul 30 09:28:03 -0700 2017</td>\n",
       "      <td>0</td>\n",
       "      <td>6</td>\n",
       "      <td>3</td>\n",
       "      <td>Tue Jul 25 00:00:00 -0700 2017</td>\n",
       "      <td>5e212a62bced17b4dbe41150e5bb9037</td>\n",
       "      <td>I haven't read a fun mystery book in a while a...</td>\n",
       "      <td>Mon Jul 24 00:00:00 -0700 2017</td>\n",
       "      <td>8842281e1d1347389f2ab93d60773d4d</td>\n",
       "    </tr>\n",
       "    <tr>\n",
       "      <th>3</th>\n",
       "      <td>22078596</td>\n",
       "      <td>Mon Jul 24 02:33:09 -0700 2017</td>\n",
       "      <td>Sun Jul 30 10:23:54 -0700 2017</td>\n",
       "      <td>4</td>\n",
       "      <td>22</td>\n",
       "      <td>4</td>\n",
       "      <td>Sun Jul 30 15:42:05 -0700 2017</td>\n",
       "      <td>fdd13cad0695656be99828cd75d6eb73</td>\n",
       "      <td>Fun, fast paced, and disturbing tale of murder...</td>\n",
       "      <td>Tue Jul 25 00:00:00 -0700 2017</td>\n",
       "      <td>8842281e1d1347389f2ab93d60773d4d</td>\n",
       "    </tr>\n",
       "    <tr>\n",
       "      <th>4</th>\n",
       "      <td>6644782</td>\n",
       "      <td>Mon Jul 24 02:28:14 -0700 2017</td>\n",
       "      <td>Thu Aug 24 00:07:20 -0700 2017</td>\n",
       "      <td>0</td>\n",
       "      <td>8</td>\n",
       "      <td>4</td>\n",
       "      <td>Sat Aug 05 00:00:00 -0700 2017</td>\n",
       "      <td>bd0df91c9d918c0e433b9ab3a9a5c451</td>\n",
       "      <td>A fun book that gives you a sense of living in...</td>\n",
       "      <td>Sun Jul 30 00:00:00 -0700 2017</td>\n",
       "      <td>8842281e1d1347389f2ab93d60773d4d</td>\n",
       "    </tr>\n",
       "  </tbody>\n",
       "</table>\n",
       "</div>"
      ],
      "text/plain": [
       "    book_id                      date_added                    date_updated  \\\n",
       "0  24375664  Fri Aug 25 13:55:02 -0700 2017  Mon Oct 09 08:55:59 -0700 2017   \n",
       "1  18245960  Sun Jul 30 07:44:10 -0700 2017  Wed Aug 30 00:00:26 -0700 2017   \n",
       "2   6392944  Mon Jul 24 02:48:17 -0700 2017  Sun Jul 30 09:28:03 -0700 2017   \n",
       "3  22078596  Mon Jul 24 02:33:09 -0700 2017  Sun Jul 30 10:23:54 -0700 2017   \n",
       "4   6644782  Mon Jul 24 02:28:14 -0700 2017  Thu Aug 24 00:07:20 -0700 2017   \n",
       "\n",
       "   n_comments  n_votes  rating                         read_at  \\\n",
       "0           0       16       5  Sat Oct 07 00:00:00 -0700 2017   \n",
       "1           1       28       5  Sat Aug 26 12:05:52 -0700 2017   \n",
       "2           0        6       3  Tue Jul 25 00:00:00 -0700 2017   \n",
       "3           4       22       4  Sun Jul 30 15:42:05 -0700 2017   \n",
       "4           0        8       4  Sat Aug 05 00:00:00 -0700 2017   \n",
       "\n",
       "                          review_id  \\\n",
       "0  5cd416f3efc3f944fce4ce2db2290d5e   \n",
       "1  dfdbb7b0eb5a7e4c26d59a937e2e5feb   \n",
       "2  5e212a62bced17b4dbe41150e5bb9037   \n",
       "3  fdd13cad0695656be99828cd75d6eb73   \n",
       "4  bd0df91c9d918c0e433b9ab3a9a5c451   \n",
       "\n",
       "                                         review_text  \\\n",
       "0  Mind blowingly cool. Best science fiction I've...   \n",
       "1  This is a special book. It started slow for ab...   \n",
       "2  I haven't read a fun mystery book in a while a...   \n",
       "3  Fun, fast paced, and disturbing tale of murder...   \n",
       "4  A fun book that gives you a sense of living in...   \n",
       "\n",
       "                       started_at                           user_id  \n",
       "0  Sat Aug 26 00:00:00 -0700 2017  8842281e1d1347389f2ab93d60773d4d  \n",
       "1  Tue Aug 15 13:23:18 -0700 2017  8842281e1d1347389f2ab93d60773d4d  \n",
       "2  Mon Jul 24 00:00:00 -0700 2017  8842281e1d1347389f2ab93d60773d4d  \n",
       "3  Tue Jul 25 00:00:00 -0700 2017  8842281e1d1347389f2ab93d60773d4d  \n",
       "4  Sun Jul 30 00:00:00 -0700 2017  8842281e1d1347389f2ab93d60773d4d  "
      ]
     },
     "execution_count": 32,
     "metadata": {},
     "output_type": "execute_result"
    }
   ],
   "source": [
    "# sample 5 rows\n",
    "reviews.limit(5).toPandas()"
   ]
  },
  {
   "cell_type": "code",
   "execution_count": 33,
   "metadata": {},
   "outputs": [
    {
     "name": "stderr",
     "output_type": "stream",
     "text": [
      "[Stage 57:>                                                         (0 + 1) / 1]\r"
     ]
    },
    {
     "name": "stdout",
     "output_type": "stream",
     "text": [
      "Number of rows where book_id == '24375664':        25\n"
     ]
    },
    {
     "name": "stderr",
     "output_type": "stream",
     "text": [
      "                                                                                \r"
     ]
    }
   ],
   "source": [
    "# check how many rows where book_id == '24375664'\n",
    "print(f\"Number of rows where book_id == '24375664':\\\n",
    "        {reviews.filter(reviews.book_id == '24375664').count()}\")"
   ]
  },
  {
   "cell_type": "markdown",
   "metadata": {},
   "source": [
    "Each book can have multiple reviews. We will construct a set of good reviews and bad reviews for each book. Different reviews might have different ratings, votes, and comments. This gives rich information about the book, which can be used to build a recommendation system."
   ]
  },
  {
   "cell_type": "markdown",
   "metadata": {},
   "source": [
    "### Understanding reviews\n",
    "\n",
    "For each review, we have three features that could help us to build a recommendation system:\n",
    "\n",
    "- `rating`: The rating of the review\n",
    "- `n_votes`: The number of votes the review received\n",
    "- `n_comments`: The number of comments the review received\n",
    "\n",
    "We will first sample some data to understand the relationship between these features."
   ]
  },
  {
   "cell_type": "code",
   "execution_count": 31,
   "metadata": {},
   "outputs": [
    {
     "name": "stdout",
     "output_type": "stream",
     "text": [
      "+--------+--------------------+--------------------+----------+-------+------+--------------------+--------------------+--------------------+--------------------+--------------------+\n",
      "| book_id|          date_added|        date_updated|n_comments|n_votes|rating|             read_at|           review_id|         review_text|          started_at|             user_id|\n",
      "+--------+--------------------+--------------------+----------+-------+------+--------------------+--------------------+--------------------+--------------------+--------------------+\n",
      "| 6068551|Tue Aug 11 13:10:...|Mon Sep 07 13:10:...|         4|      2|     0|                    |d054a81d6ec4cc929...|Jackie says: \\n T...|                    |b62e7452ce0cebbd1...|\n",
      "|12820360|Tue Feb 25 18:31:...|Wed Feb 26 19:25:...|         0|      0|     4|Wed Feb 26 19:22:...|172d265dedd6ba367...|This is a light, ...|Tue Feb 25 00:00:...|9fb3243336a3c406f...|\n",
      "|16150830|Thu Aug 01 13:56:...|Thu Feb 25 23:58:...|         0|      0|     5|Tue Feb 25 00:00:...|d419e12242462e402...|The amount of tim...|Sun Feb 16 00:00:...|1c845473e18c23f91...|\n",
      "|   13148|Fri Aug 26 13:31:...|Sat Aug 27 09:47:...|         0|      0|     5|Sat Aug 27 09:47:...|312d203a409fa8554...|           good book|Fri Aug 26 00:00:...|a04990a9062191f84...|\n",
      "|23395680|Sat Oct 15 18:11:...|Mon Dec 26 23:22:...|         0|      0|     5|Mon Dec 26 00:00:...|9a5fa9fb3fe379aac...|I was catching up...|Mon Dec 26 00:00:...|247894b52370e2d7c...|\n",
      "+--------+--------------------+--------------------+----------+-------+------+--------------------+--------------------+--------------------+--------------------+--------------------+\n",
      "only showing top 5 rows\n",
      "\n"
     ]
    }
   ],
   "source": [
    "# sample 0.01% of the data and plot relationship between\n",
    "# n_votes and n_comments\n",
    "\n",
    "sampled_reviews = reviews.sample(fraction=0.0001, seed=42)\n",
    "\n",
    "# cache the dataframe\n",
    "sampled_reviews.cache()\n",
    "\n",
    "# show 5 rows\n",
    "sampled_reviews.show(5)"
   ]
  },
  {
   "cell_type": "code",
   "execution_count": 32,
   "metadata": {},
   "outputs": [
    {
     "data": {
      "image/png": "[encoded data removed]",
      "text/plain": [
       "<Figure size 700x450 with 1 Axes>"
      ]
     },
     "metadata": {},
     "output_type": "display_data"
    }
   ],
   "source": [
    "# plot relationship between n_votes and n_comments\n",
    "sampled_reviews_df = sampled_reviews.toPandas()\n",
    "\n",
    "# convert n_votes and n_comments to numeric\n",
    "sampled_reviews_df[\"n_votes\"] = pd.to_numeric(sampled_reviews_df[\"n_votes\"])\n",
    "sampled_reviews_df[\"n_comments\"] = pd.to_numeric(sampled_reviews_df[\"n_comments\"])\n",
    "\n",
    "# figure size\n",
    "plt.figure(figsize=(7, 4.5))\n",
    "sns.scatterplot(data=sampled_reviews_df, x=\"n_votes\", y=\"n_comments\")\n",
    "plt.title(\"Relationship between Number of Votes and Number of Comments\")\n",
    "plt.show()"
   ]
  },
  {
   "cell_type": "code",
   "execution_count": 33,
   "metadata": {},
   "outputs": [
    {
     "data": {
      "image/png": "[encoded data removed]",
      "text/plain": [
       "<Figure size 700x450 with 1 Axes>"
      ]
     },
     "metadata": {},
     "output_type": "display_data"
    }
   ],
   "source": [
    "# plot relationship between n_votes and rating\n",
    "# figure size\n",
    "plt.figure(figsize=(7, 4.5))\n",
    "sns.scatterplot(data=sampled_reviews_df, x=\"n_votes\", y=\"rating\")\n",
    "plt.title(\"Relationship between Number of Votes and Rating\")\n",
    "plt.show()"
   ]
  },
  {
   "cell_type": "code",
   "execution_count": 34,
   "metadata": {},
   "outputs": [
    {
     "data": {
      "image/png": "[encoded data removed]",
      "text/plain": [
       "<Figure size 700x450 with 1 Axes>"
      ]
     },
     "metadata": {},
     "output_type": "display_data"
    }
   ],
   "source": [
    "# show relationship between n_comments and rating\n",
    "# figure size\n",
    "plt.figure(figsize=(7, 4.5))\n",
    "sns.scatterplot(data=sampled_reviews_df, x=\"n_comments\", y=\"rating\")\n",
    "plt.title(\"Relationship between Number of Comments and Rating\")\n",
    "plt.show()"
   ]
  },
  {
   "cell_type": "markdown",
   "metadata": {},
   "source": [
    "There is a positive correlation between the number of votes and the number of comments. __For the relationship between the rating and the number of votes, one has to be very careful__. In our books table, we have `average_rating` column, which is calculated from the rating column of the reviews table. Therefore, we should not use the rating column of the reviews table to build a recommendation system. Instead, we should use the `average_rating` column of the books table.\n",
    "\n",
    "Based on goodreads website, `n_votes` is the number of likes the review received.\n",
    "There are many interesting things could be discovered from the reviews data. For instance:\n",
    "\n",
    "- if the review deviates from the average rating, will it get more or less votes?\n",
    "- if the review deviates from the average rating, will it get more or less comments?\n",
    "- how does the radicalness of the review affect the number of votes and comments?\n",
    "\n",
    "We will explore these questions in the future."
   ]
  },
  {
   "cell_type": "markdown",
   "metadata": {},
   "source": [
    "### Transforming the reviews data\n",
    "\n",
    "To transform the reviews data, we will borrow the philosophy of TF-IDF, meaning we will:\n",
    "\n",
    "- calcualte the sum of the `n_votes` and `n_comments` for each book\n",
    "- calculate the average of the `rating` for each book\n",
    "- calculate the deviation of the `rating` from the `average_rating` for each book\n",
    "- calculate the length of the review for each book"
   ]
  },
  {
   "cell_type": "code",
   "execution_count": 35,
   "metadata": {},
   "outputs": [],
   "source": [
    "# calculate the sum of n_votes and n_comments for each row\n",
    "# and add a new column called total_engagement and add it to\n",
    "# reviews dataframe\n",
    "reviews = reviews.withColumn(\"total_engagement\", reviews.n_votes + reviews.n_comments)"
   ]
  },
  {
   "cell_type": "code",
   "execution_count": 36,
   "metadata": {},
   "outputs": [
    {
     "name": "stdout",
     "output_type": "stream",
     "text": [
      "+--------+--------------------+--------------------+----------+-------+------+--------------------+--------------------+--------------------+--------------------+--------------------+----------------+\n",
      "| book_id|          date_added|        date_updated|n_comments|n_votes|rating|             read_at|           review_id|         review_text|          started_at|             user_id|total_engagement|\n",
      "+--------+--------------------+--------------------+----------+-------+------+--------------------+--------------------+--------------------+--------------------+--------------------+----------------+\n",
      "|24375664|Fri Aug 25 13:55:...|Mon Oct 09 08:55:...|         0|     16|     5|Sat Oct 07 00:00:...|5cd416f3efc3f944f...|Mind blowingly co...|Sat Aug 26 00:00:...|8842281e1d1347389...|              16|\n",
      "|18245960|Sun Jul 30 07:44:...|Wed Aug 30 00:00:...|         1|     28|     5|Sat Aug 26 12:05:...|dfdbb7b0eb5a7e4c2...|This is a special...|Tue Aug 15 13:23:...|8842281e1d1347389...|              29|\n",
      "| 6392944|Mon Jul 24 02:48:...|Sun Jul 30 09:28:...|         0|      6|     3|Tue Jul 25 00:00:...|5e212a62bced17b4d...|I haven't read a ...|Mon Jul 24 00:00:...|8842281e1d1347389...|               6|\n",
      "|22078596|Mon Jul 24 02:33:...|Sun Jul 30 10:23:...|         4|     22|     4|Sun Jul 30 15:42:...|fdd13cad0695656be...|Fun, fast paced, ...|Tue Jul 25 00:00:...|8842281e1d1347389...|              26|\n",
      "| 6644782|Mon Jul 24 02:28:...|Thu Aug 24 00:07:...|         0|      8|     4|Sat Aug 05 00:00:...|bd0df91c9d918c0e4...|A fun book that g...|Sun Jul 30 00:00:...|8842281e1d1347389...|               8|\n",
      "+--------+--------------------+--------------------+----------+-------+------+--------------------+--------------------+--------------------+--------------------+--------------------+----------------+\n",
      "only showing top 5 rows\n",
      "\n"
     ]
    }
   ],
   "source": [
    "# view 5 rows\n",
    "reviews.show(5)"
   ]
  },
  {
   "cell_type": "code",
   "execution_count": 37,
   "metadata": {},
   "outputs": [
    {
     "name": "stderr",
     "output_type": "stream",
     "text": [
      "[Stage 62:>                                                         (0 + 1) / 1]\r"
     ]
    },
    {
     "name": "stdout",
     "output_type": "stream",
     "text": [
      "+--------+--------------------+--------------------+----------+-------+------+--------------------+--------------------+--------------------+--------------------+--------------------+----------------+--------------+\n",
      "| book_id|          date_added|        date_updated|n_comments|n_votes|rating|             read_at|           review_id|         review_text|          started_at|             user_id|total_engagement|average_rating|\n",
      "+--------+--------------------+--------------------+----------+-------+------+--------------------+--------------------+--------------------+--------------------+--------------------+----------------+--------------+\n",
      "|10000761|Tue Apr 02 20:16:...|Tue Apr 02 20:26:...|         0|      0|     3|Tue Apr 02 00:00:...|5dcb02a5a8228a2be...|A fascinating rea...|                    |b77f34246ac69b4b6...|               0|           3.5|\n",
      "|10000761|Sat Sep 10 16:19:...|Sat Sep 10 16:33:...|         2|      1|     5|Sat Sep 10 00:00:...|abae93ad132fef34f...|Jason Berry has d...|                    |3ec16d3d84ccd6e92...|               3|           3.5|\n",
      "|10000761|Wed Nov 09 05:41:...|Sun Mar 18 14:45:...|         0|      0|     3|Sun Mar 18 14:45:...|91898414e53b123a0...|Interesting subje...|Sun Feb 12 00:00:...|6cff11a0530eeddeb...|               0|           3.5|\n",
      "|10000761|Mon Jun 03 11:51:...|Fri Jun 28 19:33:...|         0|      0|     3|Fri Jun 28 00:00:...|a13072a0af2252014...|The author addres...|Wed Jun 19 00:00:...|a45fb5d39a6a9857f...|               0|           3.5|\n",
      "|10013815|Sun Oct 21 23:14:...|Thu Mar 06 16:11:...|         0|      0|     2|Thu Mar 06 00:00:...|156f7194e5354869b...|Honestly, I wasn'...|Thu Feb 13 00:00:...|bf69be53723c01a94...|               0|          3.65|\n",
      "+--------+--------------------+--------------------+----------+-------+------+--------------------+--------------------+--------------------+--------------------+--------------------+----------------+--------------+\n",
      "only showing top 5 rows\n",
      "\n"
     ]
    },
    {
     "name": "stderr",
     "output_type": "stream",
     "text": [
      "                                                                                \r"
     ]
    }
   ],
   "source": [
    "# add new column called 'average_rating' to reviews dataframe\n",
    "# by calculating the average rating for each book_id\n",
    "# and join it with reviews dataframe\n",
    "\n",
    "# group by book_id and calculate average rating\n",
    "average_rating = en_books_authors_grouped.groupBy(\"book_id\") \\\n",
    "    .agg(F.mean(\"average_rating\").alias(\"average_rating\"))\n",
    "    \n",
    "# join average_rating with reviews dataframe\n",
    "reviews = reviews.join(average_rating, on=\"book_id\")\n",
    "\n",
    "# view 5 rows\n",
    "reviews.show(5)"
   ]
  },
  {
   "cell_type": "code",
   "execution_count": 38,
   "metadata": {},
   "outputs": [
    {
     "name": "stderr",
     "output_type": "stream",
     "text": [
      "[Stage 71:>                                                         (0 + 1) / 1]\r"
     ]
    },
    {
     "name": "stdout",
     "output_type": "stream",
     "text": [
      "+--------+--------------------+--------------------+----------+-------+------+--------------------+--------------------+--------------------+--------------------+--------------------+----------------+--------------+----------------+\n",
      "| book_id|          date_added|        date_updated|n_comments|n_votes|rating|             read_at|           review_id|         review_text|          started_at|             user_id|total_engagement|average_rating|length_of_review|\n",
      "+--------+--------------------+--------------------+----------+-------+------+--------------------+--------------------+--------------------+--------------------+--------------------+----------------+--------------+----------------+\n",
      "|10000761|Tue Apr 02 20:16:...|Tue Apr 02 20:26:...|         0|      0|     3|Tue Apr 02 00:00:...|5dcb02a5a8228a2be...|A fascinating rea...|                    |b77f34246ac69b4b6...|               0|           3.5|             548|\n",
      "|10000761|Sat Sep 10 16:19:...|Sat Sep 10 16:33:...|         2|      1|     5|Sat Sep 10 00:00:...|abae93ad132fef34f...|Jason Berry has d...|                    |3ec16d3d84ccd6e92...|               3|           3.5|             926|\n",
      "|10000761|Wed Nov 09 05:41:...|Sun Mar 18 14:45:...|         0|      0|     3|Sun Mar 18 14:45:...|91898414e53b123a0...|Interesting subje...|Sun Feb 12 00:00:...|6cff11a0530eeddeb...|               0|           3.5|             159|\n",
      "|10000761|Mon Jun 03 11:51:...|Fri Jun 28 19:33:...|         0|      0|     3|Fri Jun 28 00:00:...|a13072a0af2252014...|The author addres...|Wed Jun 19 00:00:...|a45fb5d39a6a9857f...|               0|           3.5|             552|\n",
      "|10013815|Sun Oct 21 23:14:...|Thu Mar 06 16:11:...|         0|      0|     2|Thu Mar 06 00:00:...|156f7194e5354869b...|Honestly, I wasn'...|Thu Feb 13 00:00:...|bf69be53723c01a94...|               0|          3.65|             426|\n",
      "+--------+--------------------+--------------------+----------+-------+------+--------------------+--------------------+--------------------+--------------------+--------------------+----------------+--------------+----------------+\n",
      "only showing top 5 rows\n",
      "\n"
     ]
    },
    {
     "name": "stderr",
     "output_type": "stream",
     "text": [
      "                                                                                \r"
     ]
    }
   ],
   "source": [
    "# add a new column called `length_of_review` to reviews dataframe\n",
    "# by calculating the length of review_text\n",
    "\n",
    "reviews = reviews.withColumn(\"length_of_review\", F.length(reviews.review_text))\n",
    "\n",
    "# view 5 rows\n",
    "reviews.show(5)"
   ]
  },
  {
   "cell_type": "code",
   "execution_count": 39,
   "metadata": {},
   "outputs": [
    {
     "name": "stderr",
     "output_type": "stream",
     "text": [
      "[Stage 88:===============================================>     (180 + 20) / 200]\r"
     ]
    },
    {
     "name": "stdout",
     "output_type": "stream",
     "text": [
      "+--------+--------------------+--------------------+----------+-------+------+--------------------+--------------------+--------------------+--------------------+--------------------+----------------+--------------+----------------+\n",
      "| book_id|          date_added|        date_updated|n_comments|n_votes|rating|             read_at|           review_id|         review_text|          started_at|             user_id|total_engagement|average_rating|length_of_review|\n",
      "+--------+--------------------+--------------------+----------+-------+------+--------------------+--------------------+--------------------+--------------------+--------------------+----------------+--------------+----------------+\n",
      "|  140082|Fri Sep 28 21:41:...|Fri Nov 18 19:49:...|         0|      0|     5|Tue Oct 02 15:06:...|dadeb0515c02e28b2...|I liked this book...|Fri Sep 28 00:00:...|a161ad57be460d36f...|               0|          4.03|             487|\n",
      "|15734715|Thu Aug 13 19:16:...|Mon Feb 29 06:17:...|         0|      1|     3|Sun Feb 28 00:00:...|1eaed899067459594...|This was fine. I ...|Mon Sep 14 00:00:...|c6b933f055232ff1b...|               1|          3.79|             376|\n",
      "|16081991|Thu Dec 20 18:20:...|Tue Oct 08 11:01:...|         0|      1|     5|Wed Jun 26 00:00:...|0b2403701dcdff8bc...|I am ashamed of m...|Sat Jun 22 00:00:...|136fbc6b7e57b2f30...|               1|          4.03|            2261|\n",
      "|17284642|Tue Jan 29 06:09:...|Wed Mar 20 06:24:...|         5|      4|     2|Wed Mar 20 06:24:...|640670e8a92e7137b...|Almost a DNF. The...|Fri Mar 15 00:00:...|edb2a3a9a204bb3ae...|               9|          3.98|             700|\n",
      "|18079468|Sun Jun 22 17:38:...|Tue Jun 24 08:28:...|         0|      1|     5|Mon Jun 23 00:00:...|b74fc680aad407e04...|Gritty, raw, hone...|Sun Jun 22 00:00:...|ebb132d2ed7ece4d8...|               1|          4.15|            1601|\n",
      "+--------+--------------------+--------------------+----------+-------+------+--------------------+--------------------+--------------------+--------------------+--------------------+----------------+--------------+----------------+\n",
      "only showing top 5 rows\n",
      "\n"
     ]
    },
    {
     "name": "stderr",
     "output_type": "stream",
     "text": [
      "                                                                                \r"
     ]
    }
   ],
   "source": [
    "# now sample 0.05% of the data and plot relationship between\n",
    "# lenght_of_review and n_votes\n",
    "sampled_reviews2 = reviews.sample(fraction=0.0005, seed=42)\n",
    "\n",
    "# cache the dataframe\n",
    "sampled_reviews2.cache()\n",
    "\n",
    "# show 5 rows\n",
    "sampled_reviews2.show(5)"
   ]
  },
  {
   "cell_type": "code",
   "execution_count": 44,
   "metadata": {},
   "outputs": [
    {
     "data": {
      "image/png": "[encoded data removed]",
      "text/plain": [
       "<Figure size 700x450 with 1 Axes>"
      ]
     },
     "metadata": {},
     "output_type": "display_data"
    }
   ],
   "source": [
    "# plot the relationship between length_of_review and n_votes\n",
    "sampled_reviews2_df = sampled_reviews2.toPandas()\n",
    "\n",
    "# convert length_of_review and n_votes to numeric\n",
    "sampled_reviews2_df[\"length_of_review\"] = pd.to_numeric(sampled_reviews2_df[\"length_of_review\"])\n",
    "sampled_reviews2_df[\"n_votes\"] = pd.to_numeric(sampled_reviews2_df[\"n_votes\"])\n",
    "\n",
    "# figure size\n",
    "plt.figure(figsize=(7, 4.5))\n",
    "sns.scatterplot(data=sampled_reviews2_df, x=\"length_of_review\", y=\"n_votes\")\n",
    "# set x to log scale\n",
    "plt.xscale(\"log\")\n",
    "plt.title(\"Relationship between Length of Review and Number of Votes\")\n",
    "plt.show()"
   ]
  },
  {
   "cell_type": "markdown",
   "metadata": {},
   "source": [
    "As you can see that there is some positive relationship between length of review and number of votes. However, we also have a huge amount of _slient majority_ who do not vote or comment on the reviews. This is a common phenomenon in the internet. People are more likely to vote or comment when they disagree with the review. This is called the _vocal minority_. \n",
    "\n",
    "__There is also another factor we have think about when building a recommendation system__. Popular books are more likely to have more reviews. Popular books are also receive longer reviews. Therefore, we should normalize the length of the review by the popularity of the book. Meaning we will do the following:\n",
    "\n",
    "First, let's normalize the length of the reviews. This normalization will ensure that the length is factored in without overly penalizing or favoring long or short reviews.\n",
    "\n",
    "- $L_{i}^g$: Length of the $i$-th review for a book that belongs to the $g$-th group (sharing the same `book_id`).\n",
    "- $L_{\\text{max}}^g$: Maximum length of all reviews.\n",
    "- $L_{\\text{min}}^g$: Minimum length of all reviews.\n",
    "\n",
    "Normalize the length of a review to a range between 0 and 1:\n",
    "\n",
    "$$ \\text{Normalized Length} (NL_i) = \\frac{L_i^g - L_{\\text{min}}^g}{L_{\\text{max}}^g - L_{\\text{min}}^g} $$\n"
   ]
  },
  {
   "cell_type": "code",
   "execution_count": 45,
   "metadata": {},
   "outputs": [
    {
     "name": "stderr",
     "output_type": "stream",
     "text": [
      "[Stage 113:>                                                        (0 + 1) / 1]\r"
     ]
    },
    {
     "name": "stdout",
     "output_type": "stream",
     "text": [
      "+--------+--------------------+--------------------+----------+-------+------+--------------------+--------------------+--------------------+--------------------+--------------------+----------------+--------------+----------------+--------------------+--------------------+\n",
      "| book_id|          date_added|        date_updated|n_comments|n_votes|rating|             read_at|           review_id|         review_text|          started_at|             user_id|total_engagement|average_rating|length_of_review|max_length_of_review|min_length_of_review|\n",
      "+--------+--------------------+--------------------+----------+-------+------+--------------------+--------------------+--------------------+--------------------+--------------------+----------------+--------------+----------------+--------------------+--------------------+\n",
      "|10000761|Tue Apr 02 20:16:...|Tue Apr 02 20:26:...|         0|      0|     3|Tue Apr 02 00:00:...|5dcb02a5a8228a2be...|A fascinating rea...|                    |b77f34246ac69b4b6...|               0|           3.5|             548|                 926|                 159|\n",
      "|10000761|Sat Sep 10 16:19:...|Sat Sep 10 16:33:...|         2|      1|     5|Sat Sep 10 00:00:...|abae93ad132fef34f...|Jason Berry has d...|                    |3ec16d3d84ccd6e92...|               3|           3.5|             926|                 926|                 159|\n",
      "|10000761|Wed Nov 09 05:41:...|Sun Mar 18 14:45:...|         0|      0|     3|Sun Mar 18 14:45:...|91898414e53b123a0...|Interesting subje...|Sun Feb 12 00:00:...|6cff11a0530eeddeb...|               0|           3.5|             159|                 926|                 159|\n",
      "|10000761|Mon Jun 03 11:51:...|Fri Jun 28 19:33:...|         0|      0|     3|Fri Jun 28 00:00:...|a13072a0af2252014...|The author addres...|Wed Jun 19 00:00:...|a45fb5d39a6a9857f...|               0|           3.5|             552|                 926|                 159|\n",
      "|10013815|Sun Oct 21 23:14:...|Thu Mar 06 16:11:...|         0|      0|     2|Thu Mar 06 00:00:...|156f7194e5354869b...|Honestly, I wasn'...|Thu Feb 13 00:00:...|bf69be53723c01a94...|               0|          3.65|             426|                 426|                 426|\n",
      "+--------+--------------------+--------------------+----------+-------+------+--------------------+--------------------+--------------------+--------------------+--------------------+----------------+--------------+----------------+--------------------+--------------------+\n",
      "only showing top 5 rows\n",
      "\n"
     ]
    },
    {
     "name": "stderr",
     "output_type": "stream",
     "text": [
      "                                                                                \r"
     ]
    }
   ],
   "source": [
    "# find the maximum length of review_text within group that has\n",
    "# the same book_id\n",
    "max_length_of_review = reviews.groupBy(\"book_id\") \\\n",
    "    .agg(F.max(\"length_of_review\").alias(\"max_length_of_review\"))\n",
    "# find the minimum length of review_text within group that has\n",
    "# the same book_id\n",
    "\n",
    "min_length_of_review = reviews.groupBy(\"book_id\") \\\n",
    "    .agg(F.min(\"length_of_review\").alias(\"min_length_of_review\"))\n",
    "\n",
    "# you can do the above two steps in one line\n",
    "# length_of_review_stats = reviews.groupBy(\"book_id\") \\\n",
    "#     .agg(F.max(\"length_of_review\").alias(\"max_length_of_review\"),\n",
    "#          F.min(\"length_of_review\").alias(\"min_length_of_review\"))\n",
    "# and then join it with reviews dataframe\n",
    "# reviews = reviews.join(length_of_review_stats, on=\"book_id\")\n",
    "    \n",
    "# join max_length_of_review and min_length_of_review with reviews dataframe\n",
    "\n",
    "reviews = reviews.join(max_length_of_review, on=\"book_id\") \\\n",
    "    .join(min_length_of_review, on=\"book_id\")\n",
    "    \n",
    "# view 5 rows\n",
    "reviews.show(5)"
   ]
  },
  {
   "cell_type": "code",
   "execution_count": 46,
   "metadata": {},
   "outputs": [
    {
     "name": "stderr",
     "output_type": "stream",
     "text": [
      "[Stage 128:>                                                        (0 + 1) / 1]\r"
     ]
    },
    {
     "name": "stdout",
     "output_type": "stream",
     "text": [
      "+--------+--------------------+--------------------+----------+-------+------+--------------------+--------------------+--------------------+--------------------+--------------------+----------------+--------------+----------------+--------------------+--------------------+---------------------------+\n",
      "| book_id|          date_added|        date_updated|n_comments|n_votes|rating|             read_at|           review_id|         review_text|          started_at|             user_id|total_engagement|average_rating|length_of_review|max_length_of_review|min_length_of_review|normalized_length_of_review|\n",
      "+--------+--------------------+--------------------+----------+-------+------+--------------------+--------------------+--------------------+--------------------+--------------------+----------------+--------------+----------------+--------------------+--------------------+---------------------------+\n",
      "|10000761|Tue Apr 02 20:16:...|Tue Apr 02 20:26:...|         0|      0|     3|Tue Apr 02 00:00:...|5dcb02a5a8228a2be...|A fascinating rea...|                    |b77f34246ac69b4b6...|               0|           3.5|             548|                 926|                 159|         0.5071707953063885|\n",
      "|10000761|Sat Sep 10 16:19:...|Sat Sep 10 16:33:...|         2|      1|     5|Sat Sep 10 00:00:...|abae93ad132fef34f...|Jason Berry has d...|                    |3ec16d3d84ccd6e92...|               3|           3.5|             926|                 926|                 159|                        1.0|\n",
      "|10000761|Wed Nov 09 05:41:...|Sun Mar 18 14:45:...|         0|      0|     3|Sun Mar 18 14:45:...|91898414e53b123a0...|Interesting subje...|Sun Feb 12 00:00:...|6cff11a0530eeddeb...|               0|           3.5|             159|                 926|                 159|                        0.0|\n",
      "|10000761|Mon Jun 03 11:51:...|Fri Jun 28 19:33:...|         0|      0|     3|Fri Jun 28 00:00:...|a13072a0af2252014...|The author addres...|Wed Jun 19 00:00:...|a45fb5d39a6a9857f...|               0|           3.5|             552|                 926|                 159|         0.5123859191655802|\n",
      "|10013815|Sun Oct 21 23:14:...|Thu Mar 06 16:11:...|         0|      0|     2|Thu Mar 06 00:00:...|156f7194e5354869b...|Honestly, I wasn'...|Thu Feb 13 00:00:...|bf69be53723c01a94...|               0|          3.65|             426|                 426|                 426|                        0.0|\n",
      "+--------+--------------------+--------------------+----------+-------+------+--------------------+--------------------+--------------------+--------------------+--------------------+----------------+--------------+----------------+--------------------+--------------------+---------------------------+\n",
      "only showing top 5 rows\n",
      "\n"
     ]
    },
    {
     "name": "stderr",
     "output_type": "stream",
     "text": [
      "                                                                                \r"
     ]
    }
   ],
   "source": [
    "# normalize length_of_review column\n",
    "reviews = reviews.withColumn(\n",
    "    \"normalized_length_of_review\",\n",
    "    F.when(\n",
    "        # max != min\n",
    "        F.col(\"max_length_of_review\") != F.col(\"min_length_of_review\"),\n",
    "        # normalize\n",
    "        (F.col(\"length_of_review\") - F.col(\"min_length_of_review\")) / (F.col(\"max_length_of_review\") - F.col(\"min_length_of_review\"))\n",
    "    ).otherwise(0)\n",
    ")\n",
    "\n",
    "# view 5 rows\n",
    "reviews.show(5)"
   ]
  },
  {
   "cell_type": "code",
   "execution_count": null,
   "metadata": {},
   "outputs": [],
   "source": [
    "# now let's sample 0.05% of the data and plot relationship between\n",
    "# normalized_length_of_review and n_votes\n",
    "sampled_reviews3 = reviews.sample(fraction=0.0005, seed=42)\n",
    "# cache the dataframe\n",
    "sampled_reviews3.cache()\n",
    "# show 5 rows\n",
    "sampled_reviews3.show(5)"
   ]
  },
  {
   "cell_type": "code",
   "execution_count": 48,
   "metadata": {},
   "outputs": [
    {
     "data": {
      "image/png": "[encoded data removed]",
      "text/plain": [
       "<Figure size 700x450 with 1 Axes>"
      ]
     },
     "metadata": {},
     "output_type": "display_data"
    }
   ],
   "source": [
    "# plot the relationship between normalized_length_of_review and n_votes\n",
    "sampled_reviews3_df = sampled_reviews3.toPandas()\n",
    "\n",
    "# convert normalized_length_of_review and n_votes to numeric\n",
    "sampled_reviews3_df[\"normalized_length_of_review\"] = pd.to_numeric(sampled_reviews3_df[\"normalized_length_of_review\"])\n",
    "sampled_reviews3_df[\"n_votes\"] = pd.to_numeric(sampled_reviews3_df[\"n_votes\"])\n",
    "\n",
    "# figure size\n",
    "plt.figure(figsize=(7, 4.5))\n",
    "sns.scatterplot(data=sampled_reviews3_df, x=\"normalized_length_of_review\", y=\"n_votes\")\n",
    "plt.title(\"Relationship between Normalized Length of Review and Number of Votes\")\n",
    "plt.show()"
   ]
  },
  {
   "cell_type": "markdown",
   "metadata": {},
   "source": [
    "As we can see that there is still _silent majority_ who do not vote or comment on the reviews even after normalization. This is a common phenomenon in the internet. People are more likely to vote or comment when they disagree with the review. This is called the _vocal minority_."
   ]
  },
  {
   "cell_type": "markdown",
   "metadata": {},
   "source": [
    "### Construct a simple review quality score\n",
    "\n",
    "We will construct a simple review quality score for each book. We will use the following formula:\n",
    "\n",
    "$$ \\text{Review Quality Score} = 0.3 \\times (1- \\text{Normalized Length}) + 0.7 \\times \\text{Total Engagement} $$\n",
    "\n",
    "Where:\n",
    "\n",
    "- $\\text{Normalized Length}$: The normalized length of the review\n",
    "- $\\text{Total Engagement}$: The sum of the votes and comments"
   ]
  },
  {
   "cell_type": "code",
   "execution_count": 49,
   "metadata": {},
   "outputs": [
    {
     "name": "stderr",
     "output_type": "stream",
     "text": [
      "[Stage 181:>                                                        (0 + 1) / 1]\r"
     ]
    },
    {
     "name": "stdout",
     "output_type": "stream",
     "text": [
      "+--------+---------+\n",
      "| book_id|n_reviews|\n",
      "+--------+---------+\n",
      "|10013815|        1|\n",
      "|10018748|        1|\n",
      "|10023340|        1|\n",
      "|10035900|        1|\n",
      "|10042861|        1|\n",
      "+--------+---------+\n",
      "only showing top 5 rows\n",
      "\n"
     ]
    },
    {
     "name": "stderr",
     "output_type": "stream",
     "text": [
      "                                                                                \r"
     ]
    }
   ],
   "source": [
    "# get rows from reviews where number of rows for each book_id\n",
    "# is 1, meaning there is only one review for that book_id\n",
    "single_review = reviews.groupBy(\"book_id\") \\\n",
    "    .agg(F.count(\"book_id\").alias(\"n_reviews\")) \\\n",
    "    .filter(F.col(\"n_reviews\") == 1)\n",
    "    \n",
    "# view 5 rows\n",
    "single_review.show(5)"
   ]
  },
  {
   "cell_type": "code",
   "execution_count": 50,
   "metadata": {},
   "outputs": [
    {
     "name": "stderr",
     "output_type": "stream",
     "text": [
      "[Stage 191:=====================================================> (33 + 1) / 34]\r"
     ]
    },
    {
     "name": "stdout",
     "output_type": "stream",
     "text": [
      "Number of rows in single_review: 301757\n"
     ]
    },
    {
     "name": "stderr",
     "output_type": "stream",
     "text": [
      "                                                                                \r"
     ]
    }
   ],
   "source": [
    "# count number of rows\n",
    "print(f\"Number of rows in single_review: {single_review.count()}\")"
   ]
  },
  {
   "cell_type": "code",
   "execution_count": 51,
   "metadata": {},
   "outputs": [
    {
     "name": "stderr",
     "output_type": "stream",
     "text": [
      "[Stage 207:>                                                        (0 + 1) / 1]\r"
     ]
    },
    {
     "name": "stdout",
     "output_type": "stream",
     "text": [
      "+--------+---------+\n",
      "| book_id|n_reviews|\n",
      "+--------+---------+\n",
      "|10000600|       23|\n",
      "|10000761|        4|\n",
      "| 1000096|        2|\n",
      "|10001383|       22|\n",
      "|10001793|        4|\n",
      "+--------+---------+\n",
      "only showing top 5 rows\n",
      "\n"
     ]
    },
    {
     "name": "stderr",
     "output_type": "stream",
     "text": [
      "                                                                                \r"
     ]
    }
   ],
   "source": [
    "# get rows from reviews where number of rows for each book_id\n",
    "# is greater than 1, meaning there is more than one review for that book_id\n",
    "\n",
    "multiple_reviews = reviews.groupBy(\"book_id\") \\\n",
    "    .agg(F.count(\"book_id\").alias(\"n_reviews\")) \\\n",
    "    .filter(F.col(\"n_reviews\") > 1)\n",
    "    \n",
    "# view 5 rows\n",
    "multiple_reviews.show(5)"
   ]
  },
  {
   "cell_type": "code",
   "execution_count": 52,
   "metadata": {},
   "outputs": [
    {
     "name": "stderr",
     "output_type": "stream",
     "text": [
      "[Stage 230:>                                                        (0 + 1) / 1]\r"
     ]
    },
    {
     "name": "stdout",
     "output_type": "stream",
     "text": [
      "+--------+--------------------+--------------------+----------+-------+------+--------------------+--------------------+--------------------+--------------------+--------------------+----------------+--------------+----------------+--------------------+--------------------+---------------------------+---------+\n",
      "| book_id|          date_added|        date_updated|n_comments|n_votes|rating|             read_at|           review_id|         review_text|          started_at|             user_id|total_engagement|average_rating|length_of_review|max_length_of_review|min_length_of_review|normalized_length_of_review|n_reviews|\n",
      "+--------+--------------------+--------------------+----------+-------+------+--------------------+--------------------+--------------------+--------------------+--------------------+----------------+--------------+----------------+--------------------+--------------------+---------------------------+---------+\n",
      "|10013815|Sun Oct 21 23:14:...|Thu Mar 06 16:11:...|         0|      0|     2|Thu Mar 06 00:00:...|156f7194e5354869b...|Honestly, I wasn'...|Thu Feb 13 00:00:...|bf69be53723c01a94...|               0|          3.65|             426|                 426|                 426|                        0.0|        1|\n",
      "|10076589|Wed Jul 30 07:58:...|Wed Jul 30 19:55:...|         0|      0|     3|Thu Jul 31 19:55:...|953aaed4a20a12a2a...|Not been my favou...|Wed Jul 30 00:00:...|2fb7cedf19df2558d...|               0|          4.06|             107|                 107|                 107|                        0.0|        1|\n",
      "|10080772|Tue Sep 01 07:35:...|Tue Sep 01 07:37:...|         0|      0|     5|                    |ab289f4b0cf748708...|What an interesti...|                    |78938866316927634...|               0|          3.67|             114|                 114|                 114|                        0.0|        1|\n",
      "|10086567|Thu May 26 16:15:...|Thu May 26 16:15:...|         0|      0|     5|                    |55de0fd0a2a0b8b0a...|Who am I to rate ...|                    |f7f435bb3b10aed05...|               0|          4.25|              22|                  22|                  22|                        0.0|        1|\n",
      "|10094586|Mon Jul 19 17:35:...|Thu May 26 12:22:...|         0|      0|     4|Wed May 25 00:00:...|e4bdc8240fecaa048...|Always a fun seri...|Wed May 25 00:00:...|446728d221c1343b9...|               0|          4.09|             266|                 266|                 266|                        0.0|        1|\n",
      "+--------+--------------------+--------------------+----------+-------+------+--------------------+--------------------+--------------------+--------------------+--------------------+----------------+--------------+----------------+--------------------+--------------------+---------------------------+---------+\n",
      "only showing top 5 rows\n",
      "\n"
     ]
    },
    {
     "name": "stderr",
     "output_type": "stream",
     "text": [
      "                                                                                \r"
     ]
    }
   ],
   "source": [
    "# get the table from reviews where book_id is in single_review\n",
    "\n",
    "single_review_table = reviews.join(single_review, on=\"book_id\")\n",
    "# view 5 rows\n",
    "single_review_table.show(5)"
   ]
  },
  {
   "cell_type": "code",
   "execution_count": null,
   "metadata": {},
   "outputs": [],
   "source": [
    "# get the table from reviews where book_id is in multiple_reviews\n",
    "reviews_multiple = reviews.join(multiple_reviews, on=\"book_id\")\n",
    "print(f\"Number of rows in reviews_multiple: {reviews_multiple.count()}\")"
   ]
  },
  {
   "cell_type": "code",
   "execution_count": 54,
   "metadata": {},
   "outputs": [
    {
     "name": "stderr",
     "output_type": "stream",
     "text": [
      "[Stage 278:>                                                        (0 + 1) / 1]\r"
     ]
    },
    {
     "name": "stdout",
     "output_type": "stream",
     "text": [
      "+--------+--------------------+--------------------+----------+-------+------+--------------------+--------------------+--------------------+--------------------+--------------------+----------------+--------------+----------------+--------------------+--------------------+---------------------------+---------+-------------------+\n",
      "| book_id|          date_added|        date_updated|n_comments|n_votes|rating|             read_at|           review_id|         review_text|          started_at|             user_id|total_engagement|average_rating|length_of_review|max_length_of_review|min_length_of_review|normalized_length_of_review|n_reviews|       review_score|\n",
      "+--------+--------------------+--------------------+----------+-------+------+--------------------+--------------------+--------------------+--------------------+--------------------+----------------+--------------+----------------+--------------------+--------------------+---------------------------+---------+-------------------+\n",
      "|10000761|Tue Apr 02 20:16:...|Tue Apr 02 20:26:...|         0|      0|     3|Tue Apr 02 00:00:...|5dcb02a5a8228a2be...|A fascinating rea...|                    |b77f34246ac69b4b6...|               0|           3.5|             548|                 926|                 159|         0.5071707953063885|        4|0.15215123859191657|\n",
      "|10000761|Sat Sep 10 16:19:...|Sat Sep 10 16:33:...|         2|      1|     5|Sat Sep 10 00:00:...|abae93ad132fef34f...|Jason Berry has d...|                    |3ec16d3d84ccd6e92...|               3|           3.5|             926|                 926|                 159|                        1.0|        4| 2.3999999999999995|\n",
      "|10000761|Wed Nov 09 05:41:...|Sun Mar 18 14:45:...|         0|      0|     3|Sun Mar 18 14:45:...|91898414e53b123a0...|Interesting subje...|Sun Feb 12 00:00:...|6cff11a0530eeddeb...|               0|           3.5|             159|                 926|                 159|                        0.0|        4|                0.0|\n",
      "|10000761|Mon Jun 03 11:51:...|Fri Jun 28 19:33:...|         0|      0|     3|Fri Jun 28 00:00:...|a13072a0af2252014...|The author addres...|Wed Jun 19 00:00:...|a45fb5d39a6a9857f...|               0|           3.5|             552|                 926|                 159|         0.5123859191655802|        4|0.15371577574967404|\n",
      "| 1002783|Sun Jan 29 16:26:...|Mon Mar 27 10:34:...|         0|      0|     4|Wed Mar 01 00:00:...|a5096d800fea406f0...|Lots of useful in...|Sun Jan 29 00:00:...|e4c2c0760e1b57734...|               0|          4.19|             124|                 856|                 124|                        0.0|        3|                0.0|\n",
      "+--------+--------------------+--------------------+----------+-------+------+--------------------+--------------------+--------------------+--------------------+--------------------+----------------+--------------+----------------+--------------------+--------------------+---------------------------+---------+-------------------+\n",
      "only showing top 5 rows\n",
      "\n"
     ]
    },
    {
     "name": "stderr",
     "output_type": "stream",
     "text": [
      "                                                                                \r"
     ]
    }
   ],
   "source": [
    "# construct the review_score for reviews_multiple\n",
    "# review_score = 0.3 * normalized_length_of_review + 0.7 * total_engagement\n",
    "# meaning we give 30% weight to normalized_length_of_review\n",
    "# and 70% weight to total_engagement\n",
    "reviews_multiple = reviews_multiple.withColumn(\n",
    "    \"review_score\",\n",
    "    0.3 * F.col(\"normalized_length_of_review\") + 0.7 * F.col(\"total_engagement\")\n",
    ")\n",
    "\n",
    "# view 5 rows\n",
    "reviews_multiple.show(5)"
   ]
  },
  {
   "cell_type": "code",
   "execution_count": null,
   "metadata": {},
   "outputs": [],
   "source": [
    "# rank the review_score after partitioning by book_id\n",
    "from pyspark.sql.window import Window\n",
    "windowSpec = Window.partitionBy(\"book_id\").orderBy(F.desc(\"review_score\"))\n",
    "reviews_multiple = reviews_multiple.withColumn(\n",
    "    \"rank\",\n",
    "    F.rank().over(windowSpec)\n",
    ")\n",
    "\n",
    "# within each book_id, we will only keep the top 2 reviews\n",
    "reviews_multiple_top2 = reviews_multiple.filter(F.col(\"rank\") <= 2)\n",
    "\n",
    "# print number of rows\n",
    "print(f\"Number of rows in reviews_multiple_top2: {reviews_multiple_top2.count()}\")"
   ]
  },
  {
   "cell_type": "code",
   "execution_count": 56,
   "metadata": {},
   "outputs": [
    {
     "name": "stderr",
     "output_type": "stream",
     "text": [
      "[Stage 332:>                                                        (0 + 1) / 1]\r"
     ]
    },
    {
     "name": "stdout",
     "output_type": "stream",
     "text": [
      "+--------+--------------------+--------------------+----------+-------+------+--------------------+--------------------+--------------------+--------------------+--------------------+----------------+--------------+----------------+--------------------+--------------------+---------------------------+---------+-------------------+----+\n",
      "| book_id|          date_added|        date_updated|n_comments|n_votes|rating|             read_at|           review_id|         review_text|          started_at|             user_id|total_engagement|average_rating|length_of_review|max_length_of_review|min_length_of_review|normalized_length_of_review|n_reviews|       review_score|rank|\n",
      "+--------+--------------------+--------------------+----------+-------+------+--------------------+--------------------+--------------------+--------------------+--------------------+----------------+--------------+----------------+--------------------+--------------------+---------------------------+---------+-------------------+----+\n",
      "|10000761|Sat Sep 10 16:19:...|Sat Sep 10 16:33:...|         2|      1|     5|Sat Sep 10 00:00:...|abae93ad132fef34f...|Jason Berry has d...|                    |3ec16d3d84ccd6e92...|               3|           3.5|             926|                 926|                 159|                        1.0|        4| 2.3999999999999995|   1|\n",
      "|10000761|Mon Jun 03 11:51:...|Fri Jun 28 19:33:...|         0|      0|     3|Fri Jun 28 00:00:...|a13072a0af2252014...|The author addres...|Wed Jun 19 00:00:...|a45fb5d39a6a9857f...|               0|           3.5|             552|                 926|                 159|         0.5123859191655802|        4|0.15371577574967404|   2|\n",
      "| 1002783|Thu Sep 03 14:05:...|Thu Sep 03 14:05:...|         0|      2|     4|Thu Sep 03 14:05:...|5df8cc66d141bd763...|This was a useful...|                    |ef2ccb0190bb3c0e7...|               2|          4.19|             856|                 856|                 124|                        1.0|        3|                1.7|   1|\n",
      "| 1002783|Fri Feb 29 03:34:...|Fri Feb 29 03:38:...|         0|      0|     5|Tue Jun 01 00:00:...|fdfafb9e707e00d82...|An outstanding bo...|                    |bea77de12f3f6aac9...|               0|          4.19|             360|                 856|                 124|         0.3224043715846995|        3|0.09672131147540984|   2|\n",
      "|10029674|Sun Jul 22 17:57:...|Sun Jul 22 18:11:...|         0|      0|     4|Mon Jul 23 18:11:...|b3c6ca8e7f5061e03...|The Boy Who Playe...|                    |2b49259a6b753ce40...|               0|          3.42|            1844|                1844|                 187|                        1.0|        2|                0.3|   1|\n",
      "+--------+--------------------+--------------------+----------+-------+------+--------------------+--------------------+--------------------+--------------------+--------------------+----------------+--------------+----------------+--------------------+--------------------+---------------------------+---------+-------------------+----+\n",
      "only showing top 5 rows\n",
      "\n"
     ]
    },
    {
     "name": "stderr",
     "output_type": "stream",
     "text": [
      "                                                                                \r"
     ]
    }
   ],
   "source": [
    "# view 5 rows\n",
    "reviews_multiple_top2.show(5)"
   ]
  },
  {
   "cell_type": "code",
   "execution_count": 57,
   "metadata": {},
   "outputs": [],
   "source": [
    "# now we will select only the columns that we need\n",
    "# from both single_review_table and reviews_multiple_top2\n",
    "selected_columns = [\n",
    "    \"book_id\", \"review_text\", \"n_votes\", \"total_engagement\"\n",
    "]\n",
    "\n",
    "single_review_table = single_review_table.select(selected_columns)\n",
    "reviews_multiple_top2 = reviews_multiple_top2.select(selected_columns)"
   ]
  },
  {
   "cell_type": "code",
   "execution_count": null,
   "metadata": {},
   "outputs": [],
   "source": [
    "# union single_review_table and reviews_multiple_top2\n",
    "reviews_combined = single_review_table.union(reviews_multiple_top2)\n",
    "# print number of rows\n",
    "print(f\"Number of rows in reviews_combined: {reviews_combined.count()}\")"
   ]
  },
  {
   "cell_type": "code",
   "execution_count": 59,
   "metadata": {},
   "outputs": [
    {
     "name": "stderr",
     "output_type": "stream",
     "text": [
      "[Stage 385:>                                                        (0 + 1) / 1]\r"
     ]
    },
    {
     "name": "stdout",
     "output_type": "stream",
     "text": [
      "+--------+--------------------+-------+----------------+\n",
      "| book_id|         review_text|n_votes|total_engagement|\n",
      "+--------+--------------------+-------+----------------+\n",
      "|10013815|Honestly, I wasn'...|      0|               0|\n",
      "|10076589|Not been my favou...|      0|               0|\n",
      "|10080772|What an interesti...|      0|               0|\n",
      "|10086567|Who am I to rate ...|      0|               0|\n",
      "|10094586|Always a fun seri...|      0|               0|\n",
      "+--------+--------------------+-------+----------------+\n",
      "only showing top 5 rows\n",
      "\n"
     ]
    },
    {
     "name": "stderr",
     "output_type": "stream",
     "text": [
      "                                                                                \r"
     ]
    }
   ],
   "source": [
    "# view 5 rows\n",
    "reviews_combined.show(5)"
   ]
  },
  {
   "cell_type": "markdown",
   "metadata": {},
   "source": [
    "## Construct the final dataset\n",
    "\n",
    "Now we will construct the final dataset. We will select the following columns:\n",
    "\n",
    "- book_id\n",
    "- title\n",
    "- name (author)\n",
    "- description\n",
    "- link\n",
    "- review_text\n",
    "- text_reviews_count\n",
    "- average_rating\n",
    "- ratings_count\n",
    "- author_id"
   ]
  },
  {
   "cell_type": "code",
   "execution_count": 60,
   "metadata": {},
   "outputs": [
    {
     "name": "stderr",
     "output_type": "stream",
     "text": [
      "[Stage 431:>                                                        (0 + 1) / 1]\r"
     ]
    },
    {
     "name": "stdout",
     "output_type": "stream",
     "text": [
      "+--------+--------------------+--------------------+--------------------+-------------+--------------+------------------+--------------------+\n",
      "| book_id|               title|         description|                link|language_code|average_rating|text_reviews_count|             authors|\n",
      "+--------+--------------------+--------------------+--------------------+-------------+--------------+------------------+--------------------+\n",
      "| 1000059|Green Arrow, Vol....|The reinvention o...|https://www.goodr...|        en-US|          4.02|                39|Kevin Smith;Phil ...|\n",
      "|10000613|Getting Better: W...|As the income gap...|https://www.goodr...|        en-US|          3.61|                15|       Charles Kenny|\n",
      "|   10002|Three Plays: Invo...|Kobo Abe (1924-19...|https://www.goodr...|          eng|          3.94|                 4|Kobo Abe;Donald K...|\n",
      "|10005902|Killer on a Hot T...|Delilah Dickinson...|https://www.goodr...|        en-US|          3.54|                 3|   Livia J. Washburn|\n",
      "| 1000941|Modern American S...|Six excellent sto...|https://www.goodr...|          eng|          3.30|                 2|Ferdinand Schunck...|\n",
      "+--------+--------------------+--------------------+--------------------+-------------+--------------+------------------+--------------------+\n",
      "only showing top 5 rows\n",
      "\n"
     ]
    },
    {
     "name": "stderr",
     "output_type": "stream",
     "text": [
      "                                                                                \r"
     ]
    }
   ],
   "source": [
    "# join en_books_authors with book_reviews on book_id\n",
    "en_books_authors_grouped.show(5)"
   ]
  },
  {
   "cell_type": "code",
   "execution_count": null,
   "metadata": {},
   "outputs": [],
   "source": [
    "# now we want to join en_books_authors_grouped with reviews_combined\n",
    "# on book_id, but we will do left join\n",
    "# because we want to keep all rows from en_books_authors_grouped\n",
    "en_books_reviews = en_books_authors_grouped.join(reviews_combined, on=\"book_id\", how=\"left\")\n",
    "\n",
    "# print number of rows\n",
    "print(f\"Number of rows in en_books_reviews: {en_books_reviews.count()}\")"
   ]
  },
  {
   "cell_type": "code",
   "execution_count": 62,
   "metadata": {},
   "outputs": [],
   "source": [
    "# select book_id, title, name, description, link\n",
    "# review_text, average_rating, ratings_count, author_id\n",
    "\n",
    "selected_columns = [\n",
    "    \"book_id\", \"title\", \"authors\", \"description\", \"link\",\n",
    "    \"review_text\", \"text_reviews_count\", \"average_rating\"\n",
    "]\n",
    "\n",
    "final_df = en_books_reviews.select(selected_columns)"
   ]
  },
  {
   "cell_type": "code",
   "execution_count": null,
   "metadata": {},
   "outputs": [],
   "source": [
    "# sample 5 rows\n",
    "final_df.show(5)"
   ]
  },
  {
   "cell_type": "code",
   "execution_count": null,
   "metadata": {},
   "outputs": [],
   "source": [
    "# check how many rows where review_text is empty\n",
    "print(f\"Number of rows where review_text is empty:\\\n",
    "        {final_df.filter(final_df.review_text == '').count()}\")"
   ]
  },
  {
   "cell_type": "code",
   "execution_count": 65,
   "metadata": {},
   "outputs": [],
   "source": [
    "# now create new column called 'setence' \n",
    "# by concatenating review_text, title, description, author\n",
    "# and make sure setence is in lower case\n",
    "# WARNING: we suppose to add '[SEP]' between each column\n",
    "# but we will not do it here\n",
    "from pyspark.sql.functions import concat_ws, lower\n",
    "\n",
    "final_df = final_df.withColumn(\n",
    "    \"sentence\",\n",
    "    lower(concat_ws(\"[SEP]\", \"review_text\", \"title\", \"description\", \"authors\"))\n",
    ")"
   ]
  },
  {
   "cell_type": "code",
   "execution_count": null,
   "metadata": {},
   "outputs": [],
   "source": [
    "# have a look at the data\n",
    "final_df.show(5)"
   ]
  },
  {
   "cell_type": "code",
   "execution_count": null,
   "metadata": {},
   "outputs": [],
   "source": [
    "# write final_df to parquet file with snappy compression\n",
    "# called {current_date}_training.parquet\n",
    "current_date = date.today().strftime(\"%Y%m%d\")\n",
    "\n",
    "# save parquet file to local disk\n",
    "final_df.write.option(\"compression\", \"snappy\") \\\n",
    "    .parquet(f\"{current_date}_training.parquet\")"
   ]
  },
  {
   "cell_type": "code",
   "execution_count": null,
   "metadata": {},
   "outputs": [],
   "source": [
    "# save parquet file to GCS\n",
    "final_df.write.option(\"compression\", \"snappy\") \\\n",
    "    .mode(\"overwrite\") \\\n",
    "    .parquet(f\"gs://{bucket_name}/goodreads/{current_date}_training.parquet\")"
   ]
  },
  {
   "cell_type": "code",
   "execution_count": 69,
   "metadata": {},
   "outputs": [],
   "source": [
    "# stop spark session\n",
    "spark.stop()"
   ]
  },
  {
   "cell_type": "markdown",
   "metadata": {},
   "source": [
    "## Remarks\n",
    "\n",
    "\n",
    "To construct a metric for recommending good reviews based on the given conditions, we can develop a formula that balances the length of the review, the number of votes (likes), the number of comments, and the content tone. Below are possible metrics and their corresponding formulas:\n",
    "\n",
    "### 1. Review Length Normalization\n",
    "First, let's normalize the length of the reviews. This normalization will ensure that the length is factored in without overly penalizing or favoring long or short reviews.\n",
    "\n",
    "- $L_i$: Length of the $i$-th review.\n",
    "- $L_{\\text{max}}$: Maximum length of all reviews.\n",
    "- $L_{\\text{min}}$: Minimum length of all reviews.\n",
    "\n",
    "Normalize the length of a review to a range between 0 and 1:\n",
    "\n",
    "$$ \\text{Normalized Length} (NL_i) = \\frac{L_i - L_{\\text{min}}}{L_{\\text{max}} - L_{\\text{min}}} $$\n",
    "\n",
    "### 2. Engagement Metric\n",
    "Combine the number of votes and comments to create an engagement metric.\n",
    "\n",
    "- $V_i$: Number of votes for the $i$-th review.\n",
    "- $C_i$: Number of comments for the $i$-th review.\n",
    "\n",
    "We can sum these two metrics or use a weighted sum if votes are considered more important than comments:\n",
    "\n",
    "$$ \\text{Engagement} (E_i) = V_i + w \\cdot C_i $$\n",
    "\n",
    "Where $w$ is a weight parameter (e.g., $w = 0.5$ if votes are twice as important as comments).\n",
    "\n",
    "###  3. Sentiment Analysis\n",
    "To measure the tone of the review, we need to perform sentiment analysis to quantify how radical or balanced the review is.\n",
    "\n",
    "- $S_i$: Sentiment score for the $i$-th review (range from -1 to 1, where -1 is very negative, 0 is neutral, and 1 is very positive).\n",
    "\n",
    "### 4. Combined Metric\n",
    "We want to balance the normalized length, engagement, and sentiment to form a single metric. Here’s a possible formula:\n",
    "\n",
    "$$ \\text{Review Quality} (Q_i) = \\alpha \\cdot (1 - NL_i) + \\beta \\cdot E_i + \\gamma \\cdot (1 - |S_i|) $$\n",
    "\n",
    "Where:\n",
    "- $\\alpha$, $\\beta$, and $\\gamma$ are weights that can be tuned based on the importance of each factor.\n",
    "- $1 - NL_i$: Penalizes longer reviews, giving higher scores to shorter reviews.\n",
    "- $E_i$: Reflects the engagement of the review.\n",
    "- $1 - |S_i|$: Rewards less radical (more neutral) reviews, as extreme sentiments are penalized.\n",
    "\n",
    "### Example Values\n",
    "Let’s consider some example values:\n",
    "- $\\alpha = 0.3$\n",
    "- $\\beta = 0.5$\n",
    "- $\\gamma = 0.2$\n",
    "\n",
    "This configuration means engagement is the most important factor, followed by review length, and then sentiment neutrality.\n",
    "\n",
    "### Summary\n",
    "1. **Normalize the review length** to account for varying lengths.\n",
    "2. **Combine votes and comments** into an engagement metric.\n",
    "3. **Analyze the sentiment** of the review to ensure it's not too radical.\n",
    "4. **Combine these factors** into a single quality score with appropriate weights.\n",
    "\n",
    "You can adjust the weights ($\\alpha$, $\\beta$, and $\\gamma$) according to the specific needs and goals of your recommendation system. Additionally, these metrics can be refined further based on feedback and testing."
   ]
  }
 ],
 "metadata": {
  "kernelspec": {
   "display_name": "venv",
   "language": "python",
   "name": "python3"
  },
  "language_info": {
   "codemirror_mode": {
    "name": "ipython",
    "version": 3
   },
   "file_extension": ".py",
   "mimetype": "text/x-python",
   "name": "python",
   "nbconvert_exporter": "python",
   "pygments_lexer": "ipython3",
   "version": "3.10.10"
  }
 },
 "nbformat": 4,
 "nbformat_minor": 2
}
