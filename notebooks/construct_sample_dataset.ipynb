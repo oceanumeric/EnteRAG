{
 "cells": [
  {
   "cell_type": "markdown",
   "metadata": {},
   "source": [
    "# Construct Sample Dataset"
   ]
  },
  {
   "cell_type": "code",
   "execution_count": 1,
   "metadata": {},
   "outputs": [],
   "source": [
    "import os\n",
    "import pandas as pd\n",
    "from dotenv import load_dotenv\n",
    "from pyspark.sql import SparkSession\n",
    "\n",
    "load_dotenv()\n",
    "\n",
    "access_key = os.getenv(\"DIGITALOCEAN_SPACES_ACCESS_KEY\")\n",
    "secret_key = os.getenv(\"DIGITALOCEAN_SPACES_SECRET_KEY\")"
   ]
  },
  {
   "cell_type": "code",
   "execution_count": 2,
   "metadata": {},
   "outputs": [
    {
     "name": "stdout",
     "output_type": "stream",
     "text": [
      ":: loading settings :: url = jar:file:/home/michael/Github/EnteRAG/venv/lib/python3.10/site-packages/pyspark/jars/ivy-2.5.1.jar!/org/apache/ivy/core/settings/ivysettings.xml\n"
     ]
    },
    {
     "name": "stderr",
     "output_type": "stream",
     "text": [
      "Ivy Default Cache set to: /home/michael/.ivy2/cache\n",
      "The jars for the packages stored in: /home/michael/.ivy2/jars\n",
      "io.delta#delta-spark_2.12 added as a dependency\n",
      "org.apache.hadoop#hadoop-aws added as a dependency\n",
      "com.amazonaws#aws-java-sdk-bundle added as a dependency\n",
      ":: resolving dependencies :: org.apache.spark#spark-submit-parent-52cc8cc2-38ca-4965-84bc-71f9b453bb76;1.0\n",
      "\tconfs: [default]\n",
      "\tfound io.delta#delta-spark_2.12;3.0.0 in central\n",
      "\tfound io.delta#delta-storage;3.0.0 in central\n",
      "\tfound org.antlr#antlr4-runtime;4.9.3 in central\n",
      "\tfound org.apache.hadoop#hadoop-aws;3.3.4 in central\n",
      "\tfound com.amazonaws#aws-java-sdk-bundle;1.12.262 in central\n",
      "\tfound org.wildfly.openssl#wildfly-openssl;1.0.7.Final in central\n",
      "downloading https://repo1.maven.org/maven2/org/apache/hadoop/hadoop-aws/3.3.4/hadoop-aws-3.3.4.jar ...\n",
      "\t[SUCCESSFUL ] org.apache.hadoop#hadoop-aws;3.3.4!hadoop-aws.jar (16ms)\n",
      "downloading https://repo1.maven.org/maven2/com/amazonaws/aws-java-sdk-bundle/1.12.262/aws-java-sdk-bundle-1.12.262.jar ...\n",
      "\t[SUCCESSFUL ] com.amazonaws#aws-java-sdk-bundle;1.12.262!aws-java-sdk-bundle.jar (2410ms)\n",
      "downloading https://repo1.maven.org/maven2/org/wildfly/openssl/wildfly-openssl/1.0.7.Final/wildfly-openssl-1.0.7.Final.jar ...\n",
      "\t[SUCCESSFUL ] org.wildfly.openssl#wildfly-openssl;1.0.7.Final!wildfly-openssl.jar (8ms)\n",
      ":: resolution report :: resolve 1175ms :: artifacts dl 2437ms\n",
      "\t:: modules in use:\n",
      "\tcom.amazonaws#aws-java-sdk-bundle;1.12.262 from central in [default]\n",
      "\tio.delta#delta-spark_2.12;3.0.0 from central in [default]\n",
      "\tio.delta#delta-storage;3.0.0 from central in [default]\n",
      "\torg.antlr#antlr4-runtime;4.9.3 from central in [default]\n",
      "\torg.apache.hadoop#hadoop-aws;3.3.4 from central in [default]\n",
      "\torg.wildfly.openssl#wildfly-openssl;1.0.7.Final from central in [default]\n",
      "\t---------------------------------------------------------------------\n",
      "\t|                  |            modules            ||   artifacts   |\n",
      "\t|       conf       | number| search|dwnlded|evicted|| number|dwnlded|\n",
      "\t---------------------------------------------------------------------\n",
      "\t|      default     |   6   |   3   |   3   |   0   ||   6   |   3   |\n",
      "\t---------------------------------------------------------------------\n",
      ":: retrieving :: org.apache.spark#spark-submit-parent-52cc8cc2-38ca-4965-84bc-71f9b453bb76\n",
      "\tconfs: [default]\n",
      "\t3 artifacts copied, 3 already retrieved (275421kB/136ms)\n",
      "24/05/21 00:35:17 WARN NativeCodeLoader: Unable to load native-hadoop library for your platform... using builtin-java classes where applicable\n",
      "Setting default log level to \"WARN\".\n",
      "To adjust logging level use sc.setLogLevel(newLevel). For SparkR, use setLogLevel(newLevel).\n"
     ]
    }
   ],
   "source": [
    "spark = SparkSession.builder \\\n",
    "    .appName('ai-powered-search') \\\n",
    "    .config(\"spark.jars.packages\", \"io.delta:delta-spark_2.12:3.0.0\") \\\n",
    "    .config(\"spark.sql.extensions\", \"io.delta.sql.DeltaSparkSessionExtension\") \\\n",
    "    .config(\"spark.jars.packages\", \"io.delta:delta-spark_2.12:3.0.0,org.apache.hadoop:hadoop-aws:3.3.4,com.amazonaws:aws-java-sdk-bundle:1.12.262\") \\\n",
    "    .config(\"spark.sql.catalog.spark_catalog\", \"org.apache.spark.sql.delta.catalog.DeltaCatalog\") \\\n",
    "    .config(\"spark.hadoop.fs.s3a.access.key\", access_key) \\\n",
    "    .config(\"spark.hadoop.fs.s3a.secret.key\", secret_key) \\\n",
    "    .config(\"spark.hadoop.fs.s3a.endpoint\", \"https://fra1.digitaloceanspaces.com\") \\\n",
    "    .config(\"spark.hadoop.fs.s3a.impl\", \"org.apache.hadoop.fs.s3a.S3AFileSystem\") \\\n",
    "    .config(\"spark.executor.memory\", \"12g\") \\\n",
    "    .config(\"spark.driver.memory\", \"12g\") \\\n",
    "    .config(\"spark.driver.maxResultSize\", \"12g\") \\\n",
    "    .enableHiveSupport() \\\n",
    "    .getOrCreate()"
   ]
  },
  {
   "cell_type": "code",
   "execution_count": 3,
   "metadata": {},
   "outputs": [
    {
     "name": "stderr",
     "output_type": "stream",
     "text": [
      "                                                                                \r"
     ]
    },
    {
     "name": "stdout",
     "output_type": "stream",
     "text": [
      "+-----+---+\n",
      "| Name|Age|\n",
      "+-----+---+\n",
      "| John| 25|\n",
      "|Alice| 30|\n",
      "|  Bob| 28|\n",
      "+-----+---+\n",
      "\n"
     ]
    }
   ],
   "source": [
    "# test spark\n",
    "data = [(\"John\", 25), (\"Alice\", 30), (\"Bob\", 28)]\n",
    "columns = [\"Name\", \"Age\"]\n",
    "df = spark.createDataFrame(data, columns)\n",
    "# Show the DataFrame\n",
    "df.show(5)"
   ]
  },
  {
   "cell_type": "code",
   "execution_count": 16,
   "metadata": {},
   "outputs": [],
   "source": [
    "bucket_name = \"michael-data-lake\"\n",
    "file_path = f\"s3a://{bucket_name}/goodreads/20240519_embeddings.parquet\"\n",
    "\n",
    "# read parquet\n",
    "books = spark.read.parquet(file_path)"
   ]
  },
  {
   "cell_type": "code",
   "execution_count": 12,
   "metadata": {},
   "outputs": [
    {
     "name": "stderr",
     "output_type": "stream",
     "text": [
      "[Stage 14:>                                                         (0 + 1) / 1]\r"
     ]
    },
    {
     "name": "stdout",
     "output_type": "stream",
     "text": [
      "+--------------------+--------------------+--------------------+--------------------+--------------+------------------+--------------------+-----+\n",
      "|               title|             authors|         description|                link|average_rating|text_reviews_count|          embeddings|index|\n",
      "+--------------------+--------------------+--------------------+--------------------+--------------+------------------+--------------------+-----+\n",
      "| The Face of Another|Kobo Abe;E. Dale ...|Like an elegantly...|https://www.goodr...|          3.78|               118|[-0.3300421833992...|    0|\n",
      "| The Face of Another|Kobo Abe;E. Dale ...|Like an elegantly...|https://www.goodr...|          3.78|               118|[-0.0653477609157...|    1|\n",
      "|The Devil's Grave...|           Anonymous|A exhilarating ad...|https://www.goodr...|          3.94|                 7|[0.34402674436569...|    2|\n",
      "|The Devil's Grave...|           Anonymous|A exhilarating ad...|https://www.goodr...|          3.94|                 7|[0.48073613643646...|    3|\n",
      "|The Disgruntled W...|     Portia A. Cosby|\"I agreed to 'for...|https://www.goodr...|          4.17|                14|[0.06950455904006...|    4|\n",
      "+--------------------+--------------------+--------------------+--------------------+--------------+------------------+--------------------+-----+\n",
      "only showing top 5 rows\n",
      "\n"
     ]
    },
    {
     "name": "stderr",
     "output_type": "stream",
     "text": [
      "                                                                                \r"
     ]
    }
   ],
   "source": [
    "books.show(5)"
   ]
  },
  {
   "cell_type": "code",
   "execution_count": 6,
   "metadata": {},
   "outputs": [
    {
     "name": "stdout",
     "output_type": "stream",
     "text": [
      "1370919\n"
     ]
    },
    {
     "name": "stderr",
     "output_type": "stream",
     "text": [
      "                                                                                \r"
     ]
    }
   ],
   "source": [
    "print(books.count())"
   ]
  },
  {
   "cell_type": "code",
   "execution_count": 17,
   "metadata": {},
   "outputs": [
    {
     "name": "stderr",
     "output_type": "stream",
     "text": [
      "                                                                                \r"
     ]
    }
   ],
   "source": [
    "# sample 5000 books\n",
    "books = books.sample(fraction=5000/books.count(), seed=42)\n",
    "# turn to pandas\n",
    "books = books.toPandas()"
   ]
  },
  {
   "cell_type": "code",
   "execution_count": 18,
   "metadata": {},
   "outputs": [
    {
     "data": {
      "text/html": [
       "<div>\n",
       "<style scoped>\n",
       "    .dataframe tbody tr th:only-of-type {\n",
       "        vertical-align: middle;\n",
       "    }\n",
       "\n",
       "    .dataframe tbody tr th {\n",
       "        vertical-align: top;\n",
       "    }\n",
       "\n",
       "    .dataframe thead th {\n",
       "        text-align: right;\n",
       "    }\n",
       "</style>\n",
       "<table border=\"1\" class=\"dataframe\">\n",
       "  <thead>\n",
       "    <tr style=\"text-align: right;\">\n",
       "      <th></th>\n",
       "      <th>title</th>\n",
       "      <th>authors</th>\n",
       "      <th>description</th>\n",
       "      <th>link</th>\n",
       "      <th>average_rating</th>\n",
       "      <th>text_reviews_count</th>\n",
       "      <th>embeddings</th>\n",
       "      <th>index</th>\n",
       "    </tr>\n",
       "  </thead>\n",
       "  <tbody>\n",
       "    <tr>\n",
       "      <th>0</th>\n",
       "      <td>The Blood Royal (Joe Sandilands #9)</td>\n",
       "      <td>Barbara Cleverly</td>\n",
       "      <td>A story of murder, mystery and espionage (with...</td>\n",
       "      <td>https://www.goodreads.com/book/show/10215672-t...</td>\n",
       "      <td>3.62</td>\n",
       "      <td>86</td>\n",
       "      <td>[-0.15909269452095032, -0.1371370106935501, 0....</td>\n",
       "      <td>255</td>\n",
       "    </tr>\n",
       "    <tr>\n",
       "      <th>1</th>\n",
       "      <td>Wedding at King's Convenience (Kings of Califo...</td>\n",
       "      <td>Maureen Child</td>\n",
       "      <td>Everyone did Jefferson King's bidding. Except ...</td>\n",
       "      <td>https://www.goodreads.com/book/show/11147472-w...</td>\n",
       "      <td>3.37</td>\n",
       "      <td>3</td>\n",
       "      <td>[0.28028225898742676, 0.00014651630772277713, ...</td>\n",
       "      <td>1405</td>\n",
       "    </tr>\n",
       "    <tr>\n",
       "      <th>2</th>\n",
       "      <td>Alcibiades</td>\n",
       "      <td>Plato</td>\n",
       "      <td>The Alcibiades was widely read in antiquity as...</td>\n",
       "      <td>https://www.goodreads.com/book/show/1132944.Al...</td>\n",
       "      <td>3.82</td>\n",
       "      <td>10</td>\n",
       "      <td>[-0.2626037299633026, 0.15822897851467133, 0.2...</td>\n",
       "      <td>1643</td>\n",
       "    </tr>\n",
       "    <tr>\n",
       "      <th>3</th>\n",
       "      <td>Crazy Enough: A Memoir</td>\n",
       "      <td>Storm Large</td>\n",
       "      <td>Yes,Storm Large is her real name, though she's...</td>\n",
       "      <td>https://www.goodreads.com/book/show/11459673-c...</td>\n",
       "      <td>3.77</td>\n",
       "      <td>131</td>\n",
       "      <td>[-0.1144125685095787, -0.3899981379508972, 0.0...</td>\n",
       "      <td>1824</td>\n",
       "    </tr>\n",
       "    <tr>\n",
       "      <th>4</th>\n",
       "      <td>The Second Spy (The Books of Elsewhere, #3)</td>\n",
       "      <td>Jacqueline West</td>\n",
       "      <td>In Olive's third adventure, what lurks below t...</td>\n",
       "      <td>https://www.goodreads.com/book/show/11737314-t...</td>\n",
       "      <td>4.29</td>\n",
       "      <td>93</td>\n",
       "      <td>[0.2180931568145752, -0.09221331775188446, -0....</td>\n",
       "      <td>2099</td>\n",
       "    </tr>\n",
       "  </tbody>\n",
       "</table>\n",
       "</div>"
      ],
      "text/plain": [
       "                                               title           authors  \\\n",
       "0                The Blood Royal (Joe Sandilands #9)  Barbara Cleverly   \n",
       "1  Wedding at King's Convenience (Kings of Califo...     Maureen Child   \n",
       "2                                         Alcibiades             Plato   \n",
       "3                             Crazy Enough: A Memoir       Storm Large   \n",
       "4        The Second Spy (The Books of Elsewhere, #3)   Jacqueline West   \n",
       "\n",
       "                                         description  \\\n",
       "0  A story of murder, mystery and espionage (with...   \n",
       "1  Everyone did Jefferson King's bidding. Except ...   \n",
       "2  The Alcibiades was widely read in antiquity as...   \n",
       "3  Yes,Storm Large is her real name, though she's...   \n",
       "4  In Olive's third adventure, what lurks below t...   \n",
       "\n",
       "                                                link average_rating  \\\n",
       "0  https://www.goodreads.com/book/show/10215672-t...           3.62   \n",
       "1  https://www.goodreads.com/book/show/11147472-w...           3.37   \n",
       "2  https://www.goodreads.com/book/show/1132944.Al...           3.82   \n",
       "3  https://www.goodreads.com/book/show/11459673-c...           3.77   \n",
       "4  https://www.goodreads.com/book/show/11737314-t...           4.29   \n",
       "\n",
       "  text_reviews_count                                         embeddings  index  \n",
       "0                 86  [-0.15909269452095032, -0.1371370106935501, 0....    255  \n",
       "1                  3  [0.28028225898742676, 0.00014651630772277713, ...   1405  \n",
       "2                 10  [-0.2626037299633026, 0.15822897851467133, 0.2...   1643  \n",
       "3                131  [-0.1144125685095787, -0.3899981379508972, 0.0...   1824  \n",
       "4                 93  [0.2180931568145752, -0.09221331775188446, -0....   2099  "
      ]
     },
     "execution_count": 18,
     "metadata": {},
     "output_type": "execute_result"
    }
   ],
   "source": [
    "books.head()"
   ]
  },
  {
   "cell_type": "code",
   "execution_count": 19,
   "metadata": {},
   "outputs": [],
   "source": [
    "# drop index column \n",
    "books = books.drop(\"index\", axis=1)\n",
    "\n",
    "# save to csv\n",
    "books.to_csv(\"../search/books_embeddings.csv\", index=False)"
   ]
  },
  {
   "cell_type": "code",
   "execution_count": null,
   "metadata": {},
   "outputs": [],
   "source": []
  }
 ],
 "metadata": {
  "kernelspec": {
   "display_name": "venv",
   "language": "python",
   "name": "python3"
  },
  "language_info": {
   "codemirror_mode": {
    "name": "ipython",
    "version": 3
   },
   "file_extension": ".py",
   "mimetype": "text/x-python",
   "name": "python",
   "nbconvert_exporter": "python",
   "pygments_lexer": "ipython3",
   "version": "3.10.10"
  }
 },
 "nbformat": 4,
 "nbformat_minor": 2
}
